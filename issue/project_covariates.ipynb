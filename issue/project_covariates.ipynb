{
 "cells": [
  {
   "cell_type": "markdown",
   "id": "cbb7291b-a7b6-4e88-849a-378cfe90c33e",
   "metadata": {},
   "source": [
    "\n",
    "Departing individual characteristics \n",
    "- What areas of problem solving does this person touch (indicator variables)\n",
    "    - A priori: increased coverage should negative affect the project\n",
    "    - Initial metrics category: Indicator for problem identification, problem solving, solution incorporation\n",
    "    - Later on (deep-dive): Indicators for all activities within each category\n",
    "- What % of problems in each area is this person solving\n",
    "    - Initial metrics category:  % solved in last 6 months, last year for opened issues, other issue comments/PRs/commits, PR merging+issue closing (just use individual)\n",
    "    - Later on (deep-dive): More time periods, more activities in each category\n"
   ]
  },
  {
   "cell_type": "code",
   "execution_count": 1,
   "id": "43310309-672d-4698-bb68-a33aaa8ec6c8",
   "metadata": {},
   "outputs": [],
   "source": [
    "import os\n",
    "os.chdir('../')"
   ]
  },
  {
   "cell_type": "code",
   "execution_count": 2,
   "id": "acc5551e-574d-42f3-84d9-885e864f477e",
   "metadata": {},
   "outputs": [],
   "source": [
    "import pandas as pd\n",
    "from pathlib import Path\n",
    "import numpy as np\n",
    "import sys\n",
    "import glob\n",
    "import warnings\n",
    "import random\n",
    "from glob import glob \n",
    "import datetime\n",
    "import itertools\n",
    "import time\n",
    "from multiprocessing import pool\n",
    "from source.lib.helpers import *"
   ]
  },
  {
   "cell_type": "code",
   "execution_count": 39,
   "id": "9292248b-9696-4f71-90e4-89f0a13dbfef",
   "metadata": {},
   "outputs": [
    {
     "name": "stdout",
     "output_type": "stream",
     "text": [
      "INFO: Pandarallel will run on 32 workers.\n",
      "INFO: Pandarallel will use Memory file system to transfer data between the main process and workers.\n"
     ]
    }
   ],
   "source": [
    "warnings.filterwarnings(\"ignore\")\n",
    "pd.set_option('display.max_columns', None)\n",
    "pandarallel.initialize(progress_bar = True)\n",
    "\n",
    "indir_data = Path('drive/output/derived/contributor_stats/contributor_data')\n",
    "outdir_data = Path('drive/output/derived/project_outcomes')\n",
    "\n",
    "time_period = 6#int(sys.argv[1])\n",
    "df_contributor_panel = pd.read_parquet(indir_data / f\"major_contributors_major_months{time_period}_window732D_samplefull.parquet\")"
   ]
  },
  {
   "cell_type": "code",
   "execution_count": 40,
   "id": "a4a4fcf0-2d52-401a-95da-30cf60518722",
   "metadata": {},
   "outputs": [],
   "source": [
    "agg_cols = ['issues_opened','helping_issue_comments','commits','prs_opened','prs_merged','issues_closed']\n",
    "val_cols = [col for col in df_contributor_panel.columns if 'pct' in col]\n",
    "df_contributor_panel = df_contributor_panel.drop(val_cols, axis = 1).reset_index(drop = True)\n",
    "df_contributor_panel = df_contributor_panel.rename({'issue_number':'issues_opened','pr':'prs_opened'}, axis = 1)\n"
   ]
  },
  {
   "cell_type": "code",
   "execution_count": 76,
   "id": "d7ec4ba2-4778-46de-bf0c-d6111e0a25c5",
   "metadata": {
    "scrolled": true
   },
   "outputs": [
    {
     "data": {
      "application/vnd.jupyter.widget-view+json": {
       "model_id": "cc017be8a6b544a28d63a1f01a882803",
       "version_major": 2,
       "version_minor": 0
      },
      "text/plain": [
       "VBox(children=(HBox(children=(IntProgress(value=0, description='0.00%', max=48564), Label(value='0 / 48564')))…"
      ]
     },
     "metadata": {},
     "output_type": "display_data"
    },
    {
     "data": {
      "application/vnd.jupyter.widget-view+json": {
       "model_id": "fee543e50ed84a0399d9fd15eec24695",
       "version_major": 2,
       "version_minor": 0
      },
      "text/plain": [
       "VBox(children=(HBox(children=(IntProgress(value=0, description='0.00%', max=48564), Label(value='0 / 48564')))…"
      ]
     },
     "metadata": {},
     "output_type": "display_data"
    },
    {
     "data": {
      "application/vnd.jupyter.widget-view+json": {
       "model_id": "0225480fa51e43b1ad5e5cdd1c47126b",
       "version_major": 2,
       "version_minor": 0
      },
      "text/plain": [
       "VBox(children=(HBox(children=(IntProgress(value=0, description='0.00%', max=48564), Label(value='0 / 48564')))…"
      ]
     },
     "metadata": {},
     "output_type": "display_data"
    },
    {
     "data": {
      "application/vnd.jupyter.widget-view+json": {
       "model_id": "541d6fa10a2c431e931c61357fd80de3",
       "version_major": 2,
       "version_minor": 0
      },
      "text/plain": [
       "VBox(children=(HBox(children=(IntProgress(value=0, description='0.00%', max=48564), Label(value='0 / 48564')))…"
      ]
     },
     "metadata": {},
     "output_type": "display_data"
    }
   ],
   "source": [
    "# AddActivityCategories\n",
    "df_contributor_panel['problem_identification'] = df_contributor_panel.parallel_apply(\n",
    "    lambda x: x['issues_opened']>0 or x['own_issue_comments']>0, axis = 1)\n",
    "df_contributor_panel['problem_discussion'] = df_contributor_panel.parallel_apply(\n",
    "    lambda x: x['helping_issue_comments']>0 or x['pr_comments']>0, axis = 1)\n",
    "df_contributor_panel['problem_solving'] = df_contributor_panel.parallel_apply(\n",
    "    lambda x: x['prs_opened']>0 or x['commits']>0, axis = 1)\n",
    "df_contributor_panel['solution_incorporation'] = df_contributor_panel.parallel_apply(\n",
    "    lambda x: x['pr_reviews']>0 or x['pr_review_comments']>0 or x['prs_merged']>0 or x['issues_closed']>0, axis = 1)\n",
    "for col in agg_cols:\n",
    "    df_contributor_panel[f\"{col}_share\"] = df_contributor_panel[col]/df_contributor_panel.groupby(['repo_name','time_period'])[col].transform('sum')\n",
    "\n",
    "df_contributor_selected_panel = df_contributor_panel[['repo_name','time_period','actor_id', 'problem_identification',\n",
    "                                                      'problem_discussion','problem_solving','solution_incorporation'] + [f\"{col}_share\" for col in agg_cols]]"
   ]
  },
  {
   "cell_type": "code",
   "execution_count": 101,
   "id": "932f7426-3183-43c5-a1ae-733068e0df90",
   "metadata": {},
   "outputs": [],
   "source": [
    "def CalculateSize(df_contributor_panel):\n",
    "    df_repo_size = df_contributor_panel.groupby(['repo_name','time_period']).agg({\n",
    "        'actor_id':'count','problem_identification': 'sum','problem_discussion':'sum','problem_solving':'sum',\n",
    "        'solution_incorporation':'sum'}).rename({\n",
    "        'actor_id':\"contributor_count\",\"problem_identification\":\"problem_identifier_count\",\"problem_discussion\":\"problem_discusser_count\",\n",
    "        \"problem_solving\":\"problem_solver_count\",\"solution_incorporation\":\"solution_incorporator_count\"}, axis = 1).reset_index()\n",
    "    return df_repo_size\n",
    "    \n",
    "# CalculateSpan\n",
    "# how??\n",
    "\n",
    "def CalculateHHI(df_contributor_panel, agg_cols):\n",
    "    for col in agg_cols:\n",
    "        df_contributor_panel[f\"{col}_hhi\"] = df_contributor_panel.assign(share_sq = lambda x: x[f\"{col}_share\"]**2)\\\n",
    "            .groupby(['repo_name','time_period'])['share_sq'].transform('sum')\n",
    "        df_contributor_panel.loc[df_contributor_panel.query(f\"{col}_share.isna()\").index,f\"{col}_hhi\"] = np.nan\n",
    "    for col in agg_cols:\n",
    "        df_contributor_panel[f\"{col}_hhi_missing\"] = df_contributor_panel[f\"{col}_hhi\"].isna()\n",
    "    df_repo_hhi = df_contributor_panel[['repo_name','time_period'] + [f\"{col}_hhi\" for col in agg_cols] + [f\"{col}_hhi_missing\" for col in agg_cols]]\\\n",
    "        .drop_duplicates(['repo_name','time_period'])\n",
    "\n",
    "    return df_repo_hhi\n",
    "\n",
    "def CalculateOverlap(df_contributor_panel):\n",
    "    norm_dict = {\"solve_and_incorporate\":\"incorporate\",\"solve_and_incorporate_and_discuss\":\"incorporate\",\n",
    "                 \"solve_and_discuss\":\"solve\"}\n",
    "    df_contributor_panel['incorporate'] = df_contributor_panel.groupby('repo_name')\\\n",
    "        ['solution_incorporation'].transform('sum')\n",
    "    df_contributor_panel['solve'] = df_contributor_panel.groupby('repo_name')\\\n",
    "        ['problem_solving'].transform('sum')\n",
    "    df_contributor_panel['solve_and_incorporate'] = df_contributor_panel.parallel_apply(\n",
    "        lambda x: x['solution_incorporation'] and x['problem_solving'], axis = 1)\n",
    "    df_contributor_panel['solve_and_incorporate_and_discuss'] = df_contributor_panel.parallel_apply(\n",
    "        lambda x: x['solution_incorporation'] and x['problem_solving'] and x['problem_discussion'], axis = 1)\n",
    "    df_contributor_panel['solve_and_discuss'] = df_contributor_panel.parallel_apply(\n",
    "        lambda x: x['problem_solving'] and x['problem_discussion'], axis = 1)\n",
    "    \n",
    "    for col in ['solve_and_incorporate','solve_and_incorporate_and_discuss','solve_and_discuss']:\n",
    "        df_contributor_panel[col] = df_contributor_panel.groupby('repo_name')\\\n",
    "            [col].transform('sum')\n",
    "        df_contributor_panel[col] = df_contributor_panel[col]/df_contributor_panel[norm_dict[col]]\n",
    "\n",
    "    df_repo_overlap = df_contributor_panel.groupby(['repo_name','time_period'])\\\n",
    "        [['solve_and_incorporate','solve_and_incorporate_and_discuss','solve_and_discuss']].mean().reset_index()\n",
    "    return df_repo_overlap"
   ]
  },
  {
   "cell_type": "code",
   "execution_count": 48,
   "id": "fc24b100-494d-4875-9776-d0da200a3d0b",
   "metadata": {
    "scrolled": true
   },
   "outputs": [],
   "source": [
    "df_repo_size = CalculateSize(df_contributor_panel)\n",
    "df_repo_hhi = CalculateHHI(df_contributor_panel, agg_cols)\n",
    "df_repo_overlap = CalculateOverlap(df_contributor_panel)"
   ]
  },
  {
   "cell_type": "code",
   "execution_count": 91,
   "id": "80a28bb8-126d-4045-89c7-674e6a09ca42",
   "metadata": {
    "scrolled": true
   },
   "outputs": [],
   "source": [
    "df_repo_panel = pd.merge(df_repo_size, df_repo_hhi, how = 'outer').merge(df_repo_overlap, how = 'outer')\n",
    "df_repo_panel['first_period'] = df_repo_panel.groupby('repo_name')['time_period'].transform('min')\n",
    "df_repo_panel['final_period'] = df_repo_panel.groupby('repo_name')['time_period'].transform('max')"
   ]
  },
  {
   "cell_type": "code",
   "execution_count": 93,
   "id": "67a969e1-2382-4a7a-9832-83ba30b34855",
   "metadata": {
    "scrolled": true
   },
   "outputs": [],
   "source": [
    "time_periods = df_repo_panel['time_period'].unique().tolist()\n",
    "df_balanced = df_repo_panel[['repo_name']].drop_duplicates()\n",
    "df_balanced['time_period'] = [time_periods for i in range(df_balanced.shape[0])]\n",
    "df_balanced = df_balanced.explode('time_period')\n",
    "df_repo_panel_full = pd.merge(df_balanced, df_repo_panel, how = 'left')\n",
    "df_repo_panel_full[['first_period','final_period']] = df_repo_panel_full.groupby(['repo_name'])[['first_period','final_period']].ffill()\n",
    "df_repo_panel_full = df_repo_panel_full.query('time_period >= first_period')\n",
    "df_repo_panel_full[[col for col in df_repo_panel_full.columns if 'hhi' not in col]] = df_repo_panel_full[[col for col in df_repo_panel_full.columns if 'hhi' not in col]].fillna(0)"
   ]
  },
  {
   "cell_type": "code",
   "execution_count": 102,
   "id": "4e1c9677-e871-4986-b315-709458c5b577",
   "metadata": {
    "scrolled": true
   },
   "outputs": [
    {
     "data": {
      "application/vnd.jupyter.widget-view+json": {
       "model_id": "f7c2eb4bc6d24619b23022d6abc13a6d",
       "version_major": 2,
       "version_minor": 0
      },
      "text/plain": [
       "VBox(children=(HBox(children=(IntProgress(value=0, description='0.00%', max=48564), Label(value='0 / 48564')))…"
      ]
     },
     "metadata": {},
     "output_type": "display_data"
    },
    {
     "data": {
      "application/vnd.jupyter.widget-view+json": {
       "model_id": "e7113622f2d24a609b7d1c62dbf360ad",
       "version_major": 2,
       "version_minor": 0
      },
      "text/plain": [
       "VBox(children=(HBox(children=(IntProgress(value=0, description='0.00%', max=48564), Label(value='0 / 48564')))…"
      ]
     },
     "metadata": {},
     "output_type": "display_data"
    },
    {
     "data": {
      "application/vnd.jupyter.widget-view+json": {
       "model_id": "9acc2a24f01643199acd40bf1721cd13",
       "version_major": 2,
       "version_minor": 0
      },
      "text/plain": [
       "VBox(children=(HBox(children=(IntProgress(value=0, description='0.00%', max=48564), Label(value='0 / 48564')))…"
      ]
     },
     "metadata": {},
     "output_type": "display_data"
    }
   ],
   "source": [
    "df_repo_overlap = CalculateOverlap(df_contributor_panel)\n",
    "#df_repo_panel_full\n",
    "#df_contributor_selected_panel"
   ]
  }
 ],
 "metadata": {
  "kernelspec": {
   "display_name": "Python 3 (ipykernel)",
   "language": "python",
   "name": "python3"
  },
  "language_info": {
   "codemirror_mode": {
    "name": "ipython",
    "version": 3
   },
   "file_extension": ".py",
   "mimetype": "text/x-python",
   "name": "python",
   "nbconvert_exporter": "python",
   "pygments_lexer": "ipython3",
   "version": "3.12.7"
  }
 },
 "nbformat": 4,
 "nbformat_minor": 5
}
