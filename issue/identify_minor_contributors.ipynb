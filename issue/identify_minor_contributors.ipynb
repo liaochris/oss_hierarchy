{
 "cells": [
  {
   "cell_type": "code",
   "execution_count": 194,
   "id": "3c53d411-010a-45b9-9be6-8190a83b4abd",
   "metadata": {},
   "outputs": [],
   "source": [
    "import os\n",
    "#os.chdir('../')\n",
    "import pandas as pd\n",
    "from pathlib import Path"
   ]
  },
  {
   "cell_type": "code",
   "execution_count": 195,
   "id": "fd4ff57e-7ee8-48de-95fb-612490f93760",
   "metadata": {},
   "outputs": [],
   "source": [
    "def Main():\n",
    "    indir = Path('drive/output/derived/contributor_stats/contributor_data')\n",
    "    outdir = Path('drive/output/derived/contributor_stats/minor_contributors')\n",
    "\n",
    "    time_period = sys.argv[1]\n",
    "    rolling_window = sys.argv[2]\n",
    "    criteria_col = sys.argv[3]\n",
    "    criteria_pct = sys.argv[4]\n",
    "    \n",
    "    df_contributors = pd.read_parquet(indir / f'major_contributors_major_months{time_period}_window{rolling_window}D_samplefull.parquet')\n",
    "    min_appearances = 3 # how to let this vary with \"major months\"\n",
    "\n",
    "    contributor_appearances = df_contributors[['actor_id','repo_name']].value_counts()\\\n",
    "    .reset_index().query(f'count>={min_appearances}')\\\n",
    "    [['actor_id','repo_name', 'count']]\n",
    "\n",
    "    df_freq_appearances = pd.merge(df_contributors, contributor_appearances)\n",
    "    df_freq_appearances[f'{criteria_col}_thresh_below'] = \\\n",
    "        df_freq_appearances.apply(lambda x: (x[criteria_col] <= x[f'{criteria_col}_25th_pct']) and x[criteria_col] > 0, axis = 1)\n",
    "    df_freq_appearances[f'pct_{criteria_col}_thresh_below'] = df_freq_appearances.groupby(['repo_name', 'actor_id'])[f'{criteria_col}_thresh_below'].transform('mean')\n",
    "    \n",
    "    df_freq_unimp = df_freq_appearances.query(f'pct_{criteria_col}_thresh_below == 1')\n",
    "    df_freq_unimp['final_period'] = df_freq_unimp.groupby(['repo_name', 'actor_id'])['time_period'].transform('max')\n",
    "    \n",
    "    df_freq_unimp[['repo_name','actor_id','time_period', 'final_period']].to_csv(\n",
    "        outdir / f'minor_contributors_major_months{time_period}_window{rolling_window}D_criteria_{criteria_col}_{criteria_pct}pct.csv')"
   ]
  },
  {
   "cell_type": "code",
   "execution_count": 196,
   "id": "9c616dfa-230e-48f0-86d8-08389bc84b81",
   "metadata": {},
   "outputs": [
    {
     "ename": "NameError",
     "evalue": "name 'sys' is not defined",
     "output_type": "error",
     "traceback": [
      "\u001b[0;31m---------------------------------------------------------------------------\u001b[0m",
      "\u001b[0;31mNameError\u001b[0m                                 Traceback (most recent call last)",
      "Cell \u001b[0;32mIn[196], line 1\u001b[0m\n\u001b[0;32m----> 1\u001b[0m \u001b[43mMain\u001b[49m\u001b[43m(\u001b[49m\u001b[43m)\u001b[49m\n",
      "Cell \u001b[0;32mIn[195], line 5\u001b[0m, in \u001b[0;36mMain\u001b[0;34m()\u001b[0m\n\u001b[1;32m      2\u001b[0m indir \u001b[38;5;241m=\u001b[39m Path(\u001b[38;5;124m'\u001b[39m\u001b[38;5;124mdrive/output/derived/contributor_stats/contributor_data\u001b[39m\u001b[38;5;124m'\u001b[39m)\n\u001b[1;32m      3\u001b[0m outdir \u001b[38;5;241m=\u001b[39m Path(\u001b[38;5;124m'\u001b[39m\u001b[38;5;124mdrive/output/derived/contributor_stats/minor_contributors\u001b[39m\u001b[38;5;124m'\u001b[39m)\n\u001b[0;32m----> 5\u001b[0m time_period \u001b[38;5;241m=\u001b[39m \u001b[43msys\u001b[49m\u001b[38;5;241m.\u001b[39margv[\u001b[38;5;241m1\u001b[39m]\n\u001b[1;32m      6\u001b[0m rolling_window \u001b[38;5;241m=\u001b[39m sys\u001b[38;5;241m.\u001b[39margv[\u001b[38;5;241m2\u001b[39m]\n\u001b[1;32m      7\u001b[0m criteria_col \u001b[38;5;241m=\u001b[39m sys\u001b[38;5;241m.\u001b[39margv[\u001b[38;5;241m3\u001b[39m]\n",
      "\u001b[0;31mNameError\u001b[0m: name 'sys' is not defined"
     ]
    }
   ],
   "source": [
    "Main()"
   ]
  }
 ],
 "metadata": {
  "kernelspec": {
   "display_name": "oss_hierarchy",
   "language": "python",
   "name": "oss_hierarchy"
  },
  "language_info": {
   "codemirror_mode": {
    "name": "ipython",
    "version": 3
   },
   "file_extension": ".py",
   "mimetype": "text/x-python",
   "name": "python",
   "nbconvert_exporter": "python",
   "pygments_lexer": "ipython3",
   "version": "3.12.7"
  }
 },
 "nbformat": 4,
 "nbformat_minor": 5
}
