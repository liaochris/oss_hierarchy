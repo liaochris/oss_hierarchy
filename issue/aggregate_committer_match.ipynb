{
 "cells": [
  {
   "cell_type": "code",
   "execution_count": 1,
   "id": "79ebb3f5-47ab-4a11-af2d-df66c77a7242",
   "metadata": {},
   "outputs": [],
   "source": [
    "import os\n",
    "os.chdir('../')"
   ]
  },
  {
   "cell_type": "code",
   "execution_count": 132,
   "id": "75a5988a-0332-43e5-a701-25beac720171",
   "metadata": {},
   "outputs": [
    {
     "name": "stdout",
     "output_type": "stream",
     "text": [
      "INFO: Pandarallel will run on 32 workers.\n",
      "INFO: Pandarallel will use Memory file system to transfer data between the main process and workers.\n"
     ]
    }
   ],
   "source": [
    "import pandas as pd\n",
    "import matplotlib.pyplot as plt\n",
    "from pathlib import Path\n",
    "import numpy as np\n",
    "from dateutil.relativedelta import relativedelta\n",
    "pd.set_option('display.max_columns', None)\n",
    "import seaborn as sns\n",
    "import wrds\n",
    "import time\n",
    "from ast import literal_eval\n",
    "import requests\n",
    "from bs4 import BeautifulSoup"
   ]
  },
  {
   "cell_type": "code",
   "execution_count": 3,
   "id": "16dbec35-1e5f-47c1-9fba-ae86eee93006",
   "metadata": {},
   "outputs": [],
   "source": []
  },
  {
   "cell_type": "code",
   "execution_count": 10,
   "id": "d7f0497a-eded-4a8f-8ffb-000f2c38268b",
   "metadata": {},
   "outputs": [],
   "source": [
    "# TODO: edit file so it can handle pushes\n",
    "df_committers_info = pd.concat([pd.read_csv(indir_committers / 'committers_info_pr.csv', index_col = 0).dropna(),\n",
    "                                pd.read_csv(indir_committers / 'committers_info_push.csv', index_col = 0).dropna()])\n",
    "df_committers_info['committer_info'] = df_committers_info['committer_info'].apply(literal_eval)\n",
    "df_committers_info['commit_repo'] = df_committers_info['commit_repo'].apply(literal_eval)"
   ]
  },
  {
   "cell_type": "code",
   "execution_count": 11,
   "id": "a7907518-fafa-49b9-90a2-4a79bc561de1",
   "metadata": {
    "scrolled": true
   },
   "outputs": [],
   "source": [
    "df_committers_info = df_committers_info[df_committers_info['committer_info'].apply(lambda x: len(x) in [1, 2, 4])]\n",
    "df_committers_info['committer_info_length'] = df_committers_info['committer_info'].apply(len)"
   ]
  },
  {
   "cell_type": "code",
   "execution_count": 16,
   "id": "4903c668-2a27-403d-abb6-c954ae25df5c",
   "metadata": {
    "scrolled": true
   },
   "outputs": [],
   "source": [
    "df_committers_info['actor_name'] = df_committers_info.apply(\n",
    "    lambda x: x['committer_info'][0] if x['committer_info_length'] in [1,4] else x['committer_info'][1], axis = 1)\n",
    "df_committers_info['actor_id'] = df_committers_info.apply(\n",
    "    lambda x: x['committer_info'][1] if x['committer_info_length'] == 4 else \n",
    "    x['committer_info'][0] if x['committer_info_length'] == 2 else np.nan, axis = 1)\n",
    "df_committers_info['repo_name'] = df_committers_info['commit_repo'].apply(lambda x: list(set([ele.split(\"_\")[1] for ele in x])))\n",
    "df_committers_info = df_committers_info.explode('repo_name')"
   ]
  },
  {
   "cell_type": "code",
   "execution_count": 23,
   "id": "b8c2344d-dd6e-4742-9f74-fa6594e72f82",
   "metadata": {},
   "outputs": [],
   "source": [
    "# some cleaning functions, etc\n",
    "def CleanName(name):\n",
    "    if pd.isnull(name):\n",
    "        return name\n",
    "    name = name.title()\n",
    "    if len(name.split(\" \"))<2:\n",
    "        return np.nan\n",
    "    else:\n",
    "        if any([len(word)<=1 for word in name.split(\" \")]):\n",
    "            return np.nan\n",
    "    return name\n",
    "\n",
    "def DropNAList(lst):\n",
    "    return [x for x in lst if not pd.isnull(x)]\n",
    "\n",
    "df_committers_info['human_name'] = df_committers_info['name'].apply(lambda x: CleanName(x))\n",
    "df_committers_info['actor_name'] = df_committers_info['actor_name'].fillna('')\n",
    "df_committers_info['email_address'] = df_committers_info['email'].apply(lambda x: np.nan if pd.isnull(x) or x.endswith(\"@users.noreply.github.com\") else x)"
   ]
  },
  {
   "cell_type": "code",
   "execution_count": 48,
   "id": "b11dff92-38b7-4449-8d55-02789cd24d73",
   "metadata": {
    "scrolled": true
   },
   "outputs": [],
   "source": [
    "df_aggregated_committers = df_committers_info[['actor_id','actor_name','repo_name','human_name','email_address','name','email']].drop_duplicates()\\\n",
    "    .groupby(['actor_id','actor_name','repo_name'])\\\n",
    "    .agg({'human_name':'unique','email_address':'unique','name':'unique','email':'unique'})\\\n",
    "    .reset_index()"
   ]
  },
  {
   "cell_type": "code",
   "execution_count": 55,
   "id": "d5d4283e-4a7d-4316-bbf0-2e1c44c8597a",
   "metadata": {
    "scrolled": true
   },
   "outputs": [],
   "source": [
    "df_aggregated_committers['actor_id'] = pd.to_numeric(df_aggregated_committers['actor_id'], errors = 'coerce')\\\n",
    "    .replace('',np.nan)\n",
    "df_aggregated_committers['actor_name'] = df_aggregated_committers['actor_name'].apply(\n",
    "    lambda x: x if x.replace(\"_\",\"\").replace(\"-\",\"\").replace(\"[\",\"\").replace(\"]\",\"\").isalnum() else np.nan)\n",
    "df_aggregated_committers['actor_name'] = df_aggregated_committers['actor_name'].replace('',np.nan)"
   ]
  },
  {
   "cell_type": "code",
   "execution_count": 65,
   "id": "9ab175da-5577-4eea-ac6e-90fc50386fad",
   "metadata": {
    "scrolled": true
   },
   "outputs": [],
   "source": [
    "for col in ['human_name','email_address']:\n",
    "    df_aggregated_committers[col] = df_aggregated_committers[col].apply(DropNAList)\n",
    "df_aggregated_committers.rename({'name':'commit_name','email':'commit_email'}, axis = 1, inplace = True)\n",
    "df_aggregated_committers.dropna(subset = ['actor_id','actor_name'], thresh = 1, inplace = True)"
   ]
  },
  {
   "cell_type": "code",
   "execution_count": 89,
   "id": "522024e9-4a6c-41c3-88a0-1b3b6c29e6db",
   "metadata": {
    "scrolled": true
   },
   "outputs": [],
   "source": [
    "def GetGitHubAPIData(user_attr, extract_attr):\n",
    "    if extract_attr == 'login':\n",
    "        url = f\"https://api.github.com/user/{user_attr}\"\n",
    "    if extract_attr == 'id':\n",
    "        url = f\"https://api.github.com/users/{user_attr}\"\n",
    "    response = requests.get(url)\n",
    "    if response.status_code != 200:\n",
    "        return np.nan\n",
    "    data = response.json()\n",
    "    return data.get(extract_attr, np.nan)"
   ]
  },
  {
   "cell_type": "code",
   "execution_count": 90,
   "id": "6e38f6ae-57a2-47f4-a1af-4c081b75dd03",
   "metadata": {},
   "outputs": [],
   "source": [
    "df_aggregated_committers['actor_name'] = df_aggregated_committers.apply(\n",
    "    lambda x: x['actor_name'] if not pd.isnull(x['actor_name']) else GetGitHubAPIData(x['actor_id'], 'login'), axis = 1)"
   ]
  },
  {
   "cell_type": "code",
   "execution_count": 91,
   "id": "74c11225-43bd-4dc2-ad96-82745d47d4fb",
   "metadata": {
    "scrolled": true
   },
   "outputs": [],
   "source": [
    "df_aggregated_committers['actor_id'] = df_aggregated_committers.apply(\n",
    "    lambda x: x['actor_id'] if not pd.isnull(x['actor_id']) else GetGitHubAPIData(x['actor_name'], 'id'), axis = 1)\n",
    "df_aggregated_committers['id'] = df_aggregated_committers.apply(\n",
    "    lambda x: x['actor_id'] if not pd.isnull(x['actor_id']) else GetGitHubAPIData(x['actor_id'], 'login'), axis = 1)\n",
    "df_aggregated_committers.dropna(subset = ['actor_id','actor_name'], thresh = 2, inplace = True)"
   ]
  },
  {
   "cell_type": "code",
   "execution_count": 101,
   "id": "49e67907-bc18-487f-ab7a-b585186f7876",
   "metadata": {},
   "outputs": [],
   "source": [
    "df_aggregated_committers['profile_url'] = df_aggregated_committers['actor_name'].apply(\n",
    "    lambda x: f\"https://github.com/{x}\")"
   ]
  },
  {
   "cell_type": "code",
   "execution_count": 146,
   "id": "28d796c4-a062-4075-82e6-32e341d6c82b",
   "metadata": {},
   "outputs": [],
   "source": [
    "def ScrapeGitHubProfile(profile_url):\n",
    "    response = requests.get(profile_url)\n",
    "    if response.status_code != 200:\n",
    "        return False\n",
    "    \n",
    "    soup = BeautifulSoup(response.text, 'html.parser')\n",
    "    \n",
    "    name_tag = soup.select_one('.p-name')\n",
    "    name = name_tag.get_text(strip=True) if name_tag else None\n",
    "    \n",
    "    company_tag = soup.select_one('.p-org')\n",
    "    company = company_tag.get_text(strip=True) if company_tag else None\n",
    "    \n",
    "    location_tag = soup.select_one('.p-label')\n",
    "    location = location_tag.get_text(strip=True) if location_tag else None\n",
    "    \n",
    "    bio_tag = soup.select_one('.user-profile-bio')\n",
    "    bio = bio_tag.get_text(strip=True) if bio_tag else None\n",
    "    \n",
    "    linkedin_url = None\n",
    "    for link_tag in soup.select('a[href]'):\n",
    "        href = link_tag['href']\n",
    "        if \"linkedin.com\" in href.lower():\n",
    "            linkedin_url = href\n",
    "            break\n",
    "    \n",
    "    blog_url = None\n",
    "    blog_link_tags = soup.select('a.Link--primary[rel=\"nofollow me\"]')\n",
    "    for link_tag in blog_link_tags:\n",
    "        href = link_tag['href']\n",
    "        if \"linkedin.com\" not in href.lower():\n",
    "            blog_url = href\n",
    "            break\n",
    "    # Return collected data in a dictionary\n",
    "    return {\n",
    "        \"name\": name,\n",
    "        \"company\": company,\n",
    "        \"location\": location,\n",
    "        \"bio\": bio,\n",
    "        \"linkedin_url\": linkedin_url,\n",
    "        \"blog_url\": blog_url\n",
    "    }"
   ]
  },
  {
   "cell_type": "code",
   "execution_count": 152,
   "id": "e65aaa27-e3f9-46f7-9413-146e305ed2b5",
   "metadata": {
    "scrolled": true
   },
   "outputs": [],
   "source": [
    "df_profiles = df_aggregated_committers[['profile_url']].drop_duplicates().reset_index()"
   ]
  },
  {
   "cell_type": "code",
   "execution_count": 176,
   "id": "fc48f99d-a602-40d3-ae44-2b36537a0cb7",
   "metadata": {
    "scrolled": true
   },
   "outputs": [],
   "source": [
    "df_aggregated_committers.to_csv('issue/df_aggregated_committers.csv')"
   ]
  },
  {
   "cell_type": "code",
   "execution_count": 173,
   "id": "9d74288c-f86f-488d-abc9-a0f71812c215",
   "metadata": {
    "scrolled": true
   },
   "outputs": [
    {
     "data": {
      "text/html": [
       "<div>\n",
       "<style scoped>\n",
       "    .dataframe tbody tr th:only-of-type {\n",
       "        vertical-align: middle;\n",
       "    }\n",
       "\n",
       "    .dataframe tbody tr th {\n",
       "        vertical-align: top;\n",
       "    }\n",
       "\n",
       "    .dataframe thead th {\n",
       "        text-align: right;\n",
       "    }\n",
       "</style>\n",
       "<table border=\"1\" class=\"dataframe\">\n",
       "  <thead>\n",
       "    <tr style=\"text-align: right;\">\n",
       "      <th></th>\n",
       "      <th>actor_id</th>\n",
       "      <th>actor_name</th>\n",
       "      <th>repo_name</th>\n",
       "      <th>human_name</th>\n",
       "      <th>email_address</th>\n",
       "      <th>commit_name</th>\n",
       "      <th>commit_email</th>\n",
       "      <th>profile_url</th>\n",
       "      <th>profile_data</th>\n",
       "    </tr>\n",
       "  </thead>\n",
       "  <tbody>\n",
       "    <tr>\n",
       "      <th>0</th>\n",
       "      <td>17.0</td>\n",
       "      <td>vanpelt</td>\n",
       "      <td>wandb/wandb</td>\n",
       "      <td>[Chris Van Pelt]</td>\n",
       "      <td>[vanpelt@gmail.com, vanpelt@wandb.com]</td>\n",
       "      <td>[Chris Van Pelt]</td>\n",
       "      <td>[vanpelt@gmail.com, vanpelt@wandb.com]</td>\n",
       "      <td>https://github.com/vanpelt</td>\n",
       "      <td>[{'name': 'Chris Van Pelt (CVP)', 'company': '...</td>\n",
       "    </tr>\n",
       "    <tr>\n",
       "      <th>1</th>\n",
       "      <td>26.0</td>\n",
       "      <td>topfunky</td>\n",
       "      <td>pygments/pygments</td>\n",
       "      <td>[Geoffrey Grosenbach]</td>\n",
       "      <td>[boss@topfunky.com]</td>\n",
       "      <td>[Geoffrey Grosenbach]</td>\n",
       "      <td>[boss@topfunky.com]</td>\n",
       "      <td>https://github.com/topfunky</td>\n",
       "      <td>[{'name': 'Geoffrey Grosenbach', 'company': '@...</td>\n",
       "    </tr>\n",
       "    <tr>\n",
       "      <th>2</th>\n",
       "      <td>29.0</td>\n",
       "      <td>lukas</td>\n",
       "      <td>wandb/wandb</td>\n",
       "      <td>[Lukas Biewald]</td>\n",
       "      <td>[lukas@wandb.com]</td>\n",
       "      <td>[Lukas Biewald]</td>\n",
       "      <td>[lukas@wandb.com]</td>\n",
       "      <td>https://github.com/lukas</td>\n",
       "      <td>[{'name': 'Lukas Biewald', 'company': 'Weights...</td>\n",
       "    </tr>\n",
       "    <tr>\n",
       "      <th>3</th>\n",
       "      <td>34.0</td>\n",
       "      <td>nitay</td>\n",
       "      <td>pantsbuild/pants</td>\n",
       "      <td>[Nitay Joffe]</td>\n",
       "      <td>[nitay@actioniq.co]</td>\n",
       "      <td>[Nitay Joffe]</td>\n",
       "      <td>[nitay@actioniq.co]</td>\n",
       "      <td>https://github.com/nitay</td>\n",
       "      <td>[{'name': 'Nitay Joffe', 'company': 'ActionIQ'...</td>\n",
       "    </tr>\n",
       "    <tr>\n",
       "      <th>4</th>\n",
       "      <td>35.0</td>\n",
       "      <td>kevwil</td>\n",
       "      <td>fabric/fabric</td>\n",
       "      <td>[Kevin Williams]</td>\n",
       "      <td>[kevwil@gmail.com]</td>\n",
       "      <td>[Kevin Williams]</td>\n",
       "      <td>[kevwil@gmail.com]</td>\n",
       "      <td>https://github.com/kevwil</td>\n",
       "      <td>NaN</td>\n",
       "    </tr>\n",
       "    <tr>\n",
       "      <th>...</th>\n",
       "      <td>...</td>\n",
       "      <td>...</td>\n",
       "      <td>...</td>\n",
       "      <td>...</td>\n",
       "      <td>...</td>\n",
       "      <td>...</td>\n",
       "      <td>...</td>\n",
       "      <td>...</td>\n",
       "      <td>...</td>\n",
       "    </tr>\n",
       "    <tr>\n",
       "      <th>232108</th>\n",
       "      <td>99654151.0</td>\n",
       "      <td>serg-music</td>\n",
       "      <td>great-expectations/great</td>\n",
       "      <td>[]</td>\n",
       "      <td>[]</td>\n",
       "      <td>[serg-music]</td>\n",
       "      <td>[99654151+serg-music@users.noreply.github.com]</td>\n",
       "      <td>https://github.com/serg-music</td>\n",
       "      <td>NaN</td>\n",
       "    </tr>\n",
       "    <tr>\n",
       "      <th>232109</th>\n",
       "      <td>45845474.0</td>\n",
       "      <td>eladkal</td>\n",
       "      <td>apache/airflow</td>\n",
       "      <td>[Elad Kalif]</td>\n",
       "      <td>[eladkal@amazon.com]</td>\n",
       "      <td>[Elad Kalif]</td>\n",
       "      <td>[45845474+eladkal@users.noreply.github.com, el...</td>\n",
       "      <td>https://github.com/eladkal</td>\n",
       "      <td>NaN</td>\n",
       "    </tr>\n",
       "    <tr>\n",
       "      <th>232110</th>\n",
       "      <td>11886801.0</td>\n",
       "      <td>fabienpe</td>\n",
       "      <td>mdomke/schwifty</td>\n",
       "      <td>[]</td>\n",
       "      <td>[]</td>\n",
       "      <td>[fabienpe]</td>\n",
       "      <td>[fabienpe+fabienpe@users.noreply.github.com]</td>\n",
       "      <td>https://github.com/fabienpe</td>\n",
       "      <td>NaN</td>\n",
       "    </tr>\n",
       "    <tr>\n",
       "      <th>232111</th>\n",
       "      <td>38999128.0</td>\n",
       "      <td>jmahlik</td>\n",
       "      <td>aws/sagemaker-python-sdk</td>\n",
       "      <td>[]</td>\n",
       "      <td>[]</td>\n",
       "      <td>[jmahlik]</td>\n",
       "      <td>[j38999128+jmahlik@users.noreply.github.com]</td>\n",
       "      <td>https://github.com/jmahlik</td>\n",
       "      <td>NaN</td>\n",
       "    </tr>\n",
       "    <tr>\n",
       "      <th>232112</th>\n",
       "      <td>38999128.0</td>\n",
       "      <td>jmahlik</td>\n",
       "      <td>statsmodels/statsmodels</td>\n",
       "      <td>[]</td>\n",
       "      <td>[]</td>\n",
       "      <td>[jmahlik]</td>\n",
       "      <td>[j38999128+jmahlik@users.noreply.github.com]</td>\n",
       "      <td>https://github.com/jmahlik</td>\n",
       "      <td>NaN</td>\n",
       "    </tr>\n",
       "  </tbody>\n",
       "</table>\n",
       "<p>232113 rows × 9 columns</p>\n",
       "</div>"
      ],
      "text/plain": [
       "          actor_id  actor_name                 repo_name  \\\n",
       "0             17.0     vanpelt               wandb/wandb   \n",
       "1             26.0    topfunky         pygments/pygments   \n",
       "2             29.0       lukas               wandb/wandb   \n",
       "3             34.0       nitay          pantsbuild/pants   \n",
       "4             35.0      kevwil             fabric/fabric   \n",
       "...            ...         ...                       ...   \n",
       "232108  99654151.0  serg-music  great-expectations/great   \n",
       "232109  45845474.0     eladkal            apache/airflow   \n",
       "232110  11886801.0    fabienpe           mdomke/schwifty   \n",
       "232111  38999128.0     jmahlik  aws/sagemaker-python-sdk   \n",
       "232112  38999128.0     jmahlik   statsmodels/statsmodels   \n",
       "\n",
       "                   human_name                           email_address  \\\n",
       "0            [Chris Van Pelt]  [vanpelt@gmail.com, vanpelt@wandb.com]   \n",
       "1       [Geoffrey Grosenbach]                     [boss@topfunky.com]   \n",
       "2             [Lukas Biewald]                       [lukas@wandb.com]   \n",
       "3               [Nitay Joffe]                     [nitay@actioniq.co]   \n",
       "4            [Kevin Williams]                      [kevwil@gmail.com]   \n",
       "...                       ...                                     ...   \n",
       "232108                     []                                      []   \n",
       "232109           [Elad Kalif]                    [eladkal@amazon.com]   \n",
       "232110                     []                                      []   \n",
       "232111                     []                                      []   \n",
       "232112                     []                                      []   \n",
       "\n",
       "                  commit_name  \\\n",
       "0            [Chris Van Pelt]   \n",
       "1       [Geoffrey Grosenbach]   \n",
       "2             [Lukas Biewald]   \n",
       "3               [Nitay Joffe]   \n",
       "4            [Kevin Williams]   \n",
       "...                       ...   \n",
       "232108           [serg-music]   \n",
       "232109           [Elad Kalif]   \n",
       "232110             [fabienpe]   \n",
       "232111              [jmahlik]   \n",
       "232112              [jmahlik]   \n",
       "\n",
       "                                             commit_email  \\\n",
       "0                  [vanpelt@gmail.com, vanpelt@wandb.com]   \n",
       "1                                     [boss@topfunky.com]   \n",
       "2                                       [lukas@wandb.com]   \n",
       "3                                     [nitay@actioniq.co]   \n",
       "4                                      [kevwil@gmail.com]   \n",
       "...                                                   ...   \n",
       "232108     [99654151+serg-music@users.noreply.github.com]   \n",
       "232109  [45845474+eladkal@users.noreply.github.com, el...   \n",
       "232110       [fabienpe+fabienpe@users.noreply.github.com]   \n",
       "232111       [j38999128+jmahlik@users.noreply.github.com]   \n",
       "232112       [j38999128+jmahlik@users.noreply.github.com]   \n",
       "\n",
       "                          profile_url  \\\n",
       "0          https://github.com/vanpelt   \n",
       "1         https://github.com/topfunky   \n",
       "2            https://github.com/lukas   \n",
       "3            https://github.com/nitay   \n",
       "4           https://github.com/kevwil   \n",
       "...                               ...   \n",
       "232108  https://github.com/serg-music   \n",
       "232109     https://github.com/eladkal   \n",
       "232110    https://github.com/fabienpe   \n",
       "232111     https://github.com/jmahlik   \n",
       "232112     https://github.com/jmahlik   \n",
       "\n",
       "                                             profile_data  \n",
       "0       [{'name': 'Chris Van Pelt (CVP)', 'company': '...  \n",
       "1       [{'name': 'Geoffrey Grosenbach', 'company': '@...  \n",
       "2       [{'name': 'Lukas Biewald', 'company': 'Weights...  \n",
       "3       [{'name': 'Nitay Joffe', 'company': 'ActionIQ'...  \n",
       "4                                                     NaN  \n",
       "...                                                   ...  \n",
       "232108                                                NaN  \n",
       "232109                                                NaN  \n",
       "232110                                                NaN  \n",
       "232111                                                NaN  \n",
       "232112                                                NaN  \n",
       "\n",
       "[232113 rows x 9 columns]"
      ]
     },
     "execution_count": 173,
     "metadata": {},
     "output_type": "execute_result"
    }
   ],
   "source": [
    "df_profile_data = pd.merge(df_aggregated_committers, df_profiles)"
   ]
  },
  {
   "cell_type": "code",
   "execution_count": 170,
   "id": "e825179f-d0e4-4229-8b3e-4aea1f8eb229",
   "metadata": {
    "scrolled": true
   },
   "outputs": [
    {
     "name": "stdout",
     "output_type": "stream",
     "text": [
      "0\n",
      "1\n",
      "2\n",
      "3\n",
      "4\n"
     ]
    },
    {
     "ename": "KeyboardInterrupt",
     "evalue": "",
     "output_type": "error",
     "traceback": [
      "\u001b[0;31m---------------------------------------------------------------------------\u001b[0m",
      "\u001b[0;31mKeyboardInterrupt\u001b[0m                         Traceback (most recent call last)",
      "File \u001b[0;32m<timed exec>:6\u001b[0m\n",
      "\u001b[0;31mKeyboardInterrupt\u001b[0m: "
     ]
    }
   ],
   "source": [
    "%%time\n",
    "for i in df_profiles.index:\n",
    "    print(i)\n",
    "    scrape_result = ScrapeGitHubProfile(df_profiles.loc[i, 'profile_url'])\n",
    "    iter_count = 0\n",
    "    while type(scrape_result) == bool and iter_count < 5:\n",
    "        time.sleep(2)\n",
    "        scrape_result = ScrapeGitHubProfile(df_profiles.loc[i, 'profile_url'])\n",
    "        iter_count+=1\n",
    "    df_profiles.loc[i, 'profile_data'] = [scrape_result]"
   ]
  }
 ],
 "metadata": {
  "kernelspec": {
   "display_name": "Python 3 (ipykernel)",
   "language": "python",
   "name": "python3"
  },
  "language_info": {
   "codemirror_mode": {
    "name": "ipython",
    "version": 3
   },
   "file_extension": ".py",
   "mimetype": "text/x-python",
   "name": "python",
   "nbconvert_exporter": "python",
   "pygments_lexer": "ipython3",
   "version": "3.12.7"
  }
 },
 "nbformat": 4,
 "nbformat_minor": 5
}
