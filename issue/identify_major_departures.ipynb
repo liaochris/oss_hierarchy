{
 "cells": [
  {
   "cell_type": "code",
   "execution_count": 22,
   "id": "8308b099-6215-443a-bb62-8820f23f1b1c",
   "metadata": {},
   "outputs": [],
   "source": [
    "import pandas as pd\n",
    "import os\n",
    "import glob\n",
    "import numpy as np\n",
    "from pathlib import Path\n",
    "pd.set_option('display.max_columns', None)\n"
   ]
  },
  {
   "cell_type": "code",
   "execution_count": 2,
   "id": "cc03b794-c8a7-46dd-9025-32f2f6781939",
   "metadata": {},
   "outputs": [],
   "source": [
    "#os.chdir('../')"
   ]
  },
  {
   "cell_type": "code",
   "execution_count": 23,
   "id": "07a3ae61-fed5-484e-a8fb-56d003e7aafe",
   "metadata": {},
   "outputs": [],
   "source": [
    "def ContributorCount(df):\n",
    "    return df[['actor_id','repo_name']].drop_duplicates().shape[0]"
   ]
  },
  {
   "cell_type": "code",
   "execution_count": 24,
   "id": "63aa8bf2-4758-40ca-9721-12d9a148542e",
   "metadata": {},
   "outputs": [],
   "source": [
    "def GetConsecutiveSum(df):\n",
    "    gb = df.groupby((df['issue_exceed'] != df['issue_exceed'].shift()).cumsum())\n",
    "    df['consecutive_periods'] = gb['issue_exceed'].cumsum()\n",
    "    df.loc[df['issue_exceed'] == 0, 'consecutive_periods'] = 0\n",
    "    return df"
   ]
  },
  {
   "cell_type": "code",
   "execution_count": 35,
   "id": "0824d681-fd0f-40e4-82bf-39ce8ae9a5e5",
   "metadata": {},
   "outputs": [],
   "source": [
    "indir = Path('drive/output/derived/major_contributor_prospects')"
   ]
  },
  {
   "cell_type": "code",
   "execution_count": 26,
   "id": "7d3ac75f-e194-403d-bd9a-4ffae32337ac",
   "metadata": {},
   "outputs": [],
   "source": [
    "major_months = 6\n",
    "window = 732"
   ]
  },
  {
   "cell_type": "code",
   "execution_count": 41,
   "id": "6361eff6-bd39-41bf-97fe-f6a40940e2ca",
   "metadata": {
    "scrolled": true
   },
   "outputs": [],
   "source": [
    "def GetContributorData(indir, major_months, window):\n",
    "    file_list = [file for file in indir.glob(f'major_contributors_major_months{major_months}_window{window}D_samplefull_chunk*.parquet')]\n",
    "    df_contributors = pd.concat([pd.read_parquet(file) for file in file_list])\n",
    "    return df_contributors"
   ]
  },
  {
   "cell_type": "code",
   "execution_count": 42,
   "id": "30e59259-32e6-4e13-8cf5-4e583fea20c9",
   "metadata": {},
   "outputs": [],
   "source": [
    "df_contributors = GetContributorData(indir, major_months, window)\n",
    "num_contributors = ContributorCount(df_contributors)"
   ]
  },
  {
   "cell_type": "code",
   "execution_count": null,
   "id": "098e58f2-3ba3-4328-92a2-3b6b19b9a22a",
   "metadata": {},
   "outputs": [],
   "source": [
    "issue_pct = [75, 90]\n",
    "pr_pct = [75, 90]\n",
    "general_pct = [25, 50]\n",
    "consecutive_periods = [2, 3, 4, 5, 6]\n",
    "issue_col = 'issue_comments'\n",
    "pr_col = 'pr'\n",
    "post_period_length_list = [2, 3, 4, 5]\n",
    "decline_threshold = .2"
   ]
  },
  {
   "cell_type": "code",
   "execution_count": 6,
   "id": "8ea3e9e2-73d3-4948-8d85-51fab55bf0c4",
   "metadata": {},
   "outputs": [],
   "source": [
    "identifiers = ['repo_name','actor_id','time_period', 'earliest_appearance']\n",
    "\n",
    "issue_analysis_col = f'{issue_col}_{issue_pct}th_pct'\n",
    "issue_general_col = f'general_{issue_col}_{general_pct}th_pct'\n",
    "issue_cols = [issue_col, issue_analysis_col, issue_general_col]\n",
    "pr_analysis_col = f'{pr_col}_{pr_pct}th_pct'\n",
    "pr_general_col = f'general_{pr_col}_{general_pct}th_pct'\n",
    "pr_cols = [pr_col, pr_analysis_col, pr_general_col]\n",
    "\n",
    "analysis_cols = identifiers + issue_cols + pr_cols\n",
    "df_analysis = df_contributors[analysis_cols]"
   ]
  },
  {
   "cell_type": "code",
   "execution_count": 7,
   "id": "c473a102-e8b2-4459-9847-086b8f154178",
   "metadata": {},
   "outputs": [
    {
     "name": "stdout",
     "output_type": "stream",
     "text": [
      "total contributors: 21033, potential (exceed thresholds) contributors: 16227\n"
     ]
    },
    {
     "name": "stderr",
     "output_type": "stream",
     "text": [
      "/tmp/user/20506/ipykernel_233775/3946128436.py:7: DeprecationWarning: DataFrameGroupBy.apply operated on the grouping columns. This behavior is deprecated, and in a future version of pandas the grouping columns will be excluded from the operation. Either pass `include_groups=False` to exclude the groupings or explicitly select the grouping columns after groupby to silence this warning.\n",
      "  df_potential = df_potential.groupby(['actor_id','repo_name']).apply(GetConsecutiveSum).reset_index(drop = True)\n"
     ]
    }
   ],
   "source": [
    "potential_major_contributors = df_analysis.query(f'{issue_col}>{issue_analysis_col} & {issue_col}>{issue_general_col}')\\\n",
    "    [['actor_id','repo_name']].drop_duplicates()\n",
    "df_potential = pd.merge(df_analysis, potential_major_contributors, on = ['actor_id','repo_name'])\n",
    "num_potential_contributors = ContributorCount(df_potential)\n",
    "print(\"total contributors: {}, potential (exceed thresholds) contributors: {}\".format(num_contributors, num_potential_contributors))\n",
    "df_potential = df_potential.assign(issue_exceed = (df_potential[issue_col]>df_potential[issue_analysis_col]).astype(int))\n",
    "df_potential = df_potential.groupby(['actor_id','repo_name']).apply(GetConsecutiveSum).reset_index(drop = True)"
   ]
  },
  {
   "cell_type": "code",
   "execution_count": 8,
   "id": "98920a5b-a643-4930-8b61-3e8d0af326f3",
   "metadata": {
    "scrolled": true
   },
   "outputs": [
    {
     "name": "stdout",
     "output_type": "stream",
     "text": [
      "total contributors: 21033, potential (exceed thresholds) contributors: 16227,     3 or more consecutive periods: 7203\n"
     ]
    }
   ],
   "source": [
    "has_consecutive_periods = df_potential.query(f'consecutive_periods>={consecutive_periods}')[['actor_id','repo_name']].drop_duplicates()\n",
    "df_potential_consecutive = pd.merge(df_potential, has_consecutive_periods)\n",
    "num_consecutive_periods = ContributorCount(df_potential_consecutive)\n",
    "print(\"total contributors: {}, potential (exceed thresholds) contributors: {}, \\\n",
    "    {} or more consecutive periods: {}\".format(num_contributors, num_potential_contributors, consecutive_periods, num_consecutive_periods))"
   ]
  },
  {
   "cell_type": "code",
   "execution_count": 9,
   "id": "fd1740e2-3b37-4c63-931c-2b2fd7513161",
   "metadata": {
    "scrolled": true
   },
   "outputs": [
    {
     "name": "stdout",
     "output_type": "stream",
     "text": [
      "total contributors: 21033, potential (exceed thresholds) contributors: 16227,     3 or more consecutive periods: 7203, after removing duplicate exits: 7203\n"
     ]
    }
   ],
   "source": [
    "# not allowing for repeat exits\n",
    "departure_candidates = df_potential_consecutive[['actor_id','repo_name', 'consecutive_periods', 'time_period']]\\\n",
    "    .sort_values('consecutive_periods', ascending = False)\\\n",
    "    .drop_duplicates(['actor_id','repo_name'])\\\n",
    "    .reset_index(drop = True)\\\n",
    "    .rename({'time_period':'final_period'}, axis = 1)\n",
    "num_departure_candidates = ContributorCount(departure_candidates)\n",
    "print(\"total contributors: {}, potential (exceed thresholds) contributors: {}, \\\n",
    "    {} or more consecutive periods: {}, after removing duplicate exits: {}\".format(\n",
    "        num_contributors, num_potential_contributors, consecutive_periods, num_consecutive_periods,\n",
    "    num_departure_candidates))"
   ]
  },
  {
   "cell_type": "code",
   "execution_count": 10,
   "id": "feda8090-c1f6-45c7-be0b-ed6830026987",
   "metadata": {},
   "outputs": [],
   "source": [
    "def GetCandidates(post_period_length):\n",
    "    df_candidates = pd.DataFrame()\n",
    "    for i in departure_candidates.index:\n",
    "        final_period = departure_candidates.loc[i, 'final_period']\n",
    "        total_consecutive_periods = departure_candidates.loc[i, 'consecutive_periods']\n",
    "        df_candidate = pd.merge(df_potential_consecutive, departure_candidates.loc[[i]].drop('consecutive_periods', axis = 1))\n",
    "        if df_candidate.query('time_period>final_period').shape[0]>post_period_length: # note that 2023-07-01 is incomplete\n",
    "            if df_candidate.query('time_period>final_period').head(post_period_length)[issue_analysis_col].isna().sum() != post_period_length: # project is still active - other people are still making issue comments\n",
    "                pre_period_mean = df_candidate.query('time_period<=final_period').sort_values('time_period').tail(total_consecutive_periods)[issue_col].mean()\n",
    "                post_period_mean = df_candidate.query('time_period>final_period').head(post_period_length)[issue_col].mean()\n",
    "                if pre_period_mean * decline_threshold > post_period_mean:\n",
    "                    df_candidates = pd.concat([df_candidates, df_candidate])\n",
    "    return df_candidates"
   ]
  },
  {
   "cell_type": "code",
   "execution_count": null,
   "id": "d1d2f69b-6d76-401e-8e68-6d5dc5460ba2",
   "metadata": {},
   "outputs": [],
   "source": [
    "for post_period_length in [post_period_length_options[0]]:\n",
    "    df_candidates = GetCandidates(post_period_length)\n",
    "    num_candidates = ContributorCount(df_candidates)\n",
    "    print(\"total contributors: {}, potential (exceed thresholds) contributors: {}, \\\n",
    "          {} or more consecutive periods: {}, after removing duplicate exits: {}, \\\n",
    "          final candidate count, using {} post periods: {}\".format(\n",
    "            num_contributors, num_potential_contributors, consecutive_periods, num_consecutive_periods,\n",
    "        num_departure_candidates, post_period_length, num_candidates))"
   ]
  },
  {
   "cell_type": "code",
   "execution_count": null,
   "id": "3168e0c0-361f-41ad-8424-4222ba03bcca",
   "metadata": {},
   "outputs": [],
   "source": [
    "#df_candidates = GetCandidates(2)"
   ]
  },
  {
   "cell_type": "code",
   "execution_count": 21,
   "id": "e9ca58da-26f1-4949-bcc3-c7ba9d3533e2",
   "metadata": {
    "scrolled": true
   },
   "outputs": [
    {
     "name": "stdout",
     "output_type": "stream",
     "text": [
      "(3037, 2)\n",
      "(1664, 1)\n"
     ]
    }
   ],
   "source": [
    "print(df_candidates[['actor_id','repo_name']].drop_duplicates().shape)\n",
    "print(df_candidates[['repo_name']].drop_duplicates().shape)"
   ]
  },
  {
   "cell_type": "code",
   "execution_count": 20,
   "id": "5671b7fc-011c-4094-949f-2e9c496158b4",
   "metadata": {},
   "outputs": [
    {
     "name": "stdout",
     "output_type": "stream",
     "text": [
      "1164\n"
     ]
    }
   ],
   "source": [
    "print(np.sum(df_candidates[['actor_id','repo_name']].drop_duplicates()['repo_name'].value_counts()==1))"
   ]
  },
  {
   "cell_type": "code",
   "execution_count": null,
   "id": "5805c496-39a4-43c9-aa03-0b8e2f8a25c3",
   "metadata": {
    "scrolled": true
   },
   "outputs": [],
   "source": [
    "df_candidates"
   ]
  },
  {
   "cell_type": "code",
   "execution_count": null,
   "id": "92e72224-1554-44b3-90e9-31b50adf2059",
   "metadata": {},
   "outputs": [],
   "source": [
    "df_candidates.to_parquet('issue/candidates.parquet')"
   ]
  },
  {
   "cell_type": "code",
   "execution_count": null,
   "id": "e5e3c968-10bb-4144-9df8-5bdd4a889758",
   "metadata": {
    "scrolled": true
   },
   "outputs": [],
   "source": [
    "df_truckfactor = pd.concat([pd.read_csv(file) for file in glob.glob('drive/output/scrape/get_weekly_truck_factor/*.csv')])"
   ]
  },
  {
   "cell_type": "code",
   "execution_count": null,
   "id": "29d9c796-83e7-430c-9161-d1732b188ee9",
   "metadata": {},
   "outputs": [],
   "source": [
    "df_truckfactor.drop('Unnamed: 0', axis = 1, inplace = True)"
   ]
  },
  {
   "cell_type": "code",
   "execution_count": 43,
   "id": "533900cf-5cf6-4574-95ff-4264d76c31a5",
   "metadata": {},
   "outputs": [
    {
     "data": {
      "text/html": [
       "<div>\n",
       "<style scoped>\n",
       "    .dataframe tbody tr th:only-of-type {\n",
       "        vertical-align: middle;\n",
       "    }\n",
       "\n",
       "    .dataframe tbody tr th {\n",
       "        vertical-align: top;\n",
       "    }\n",
       "\n",
       "    .dataframe thead th {\n",
       "        text-align: right;\n",
       "    }\n",
       "</style>\n",
       "<table border=\"1\" class=\"dataframe\">\n",
       "  <thead>\n",
       "    <tr style=\"text-align: right;\">\n",
       "      <th></th>\n",
       "      <th>repo_name</th>\n",
       "      <th>actor_id</th>\n",
       "      <th>time_period</th>\n",
       "      <th>earliest_appearance</th>\n",
       "      <th>issue_comments</th>\n",
       "      <th>issue_comments_75th_pct</th>\n",
       "      <th>general_issue_comments_25th_pct</th>\n",
       "      <th>pr</th>\n",
       "      <th>pr_90th_pct</th>\n",
       "      <th>general_pr_25th_pct</th>\n",
       "      <th>issue_exceed</th>\n",
       "      <th>consecutive_periods</th>\n",
       "      <th>final_period</th>\n",
       "    </tr>\n",
       "  </thead>\n",
       "  <tbody>\n",
       "    <tr>\n",
       "      <th>0</th>\n",
       "      <td>takluyver/pynsist</td>\n",
       "      <td>327925.0</td>\n",
       "      <td>2015-01-01</td>\n",
       "      <td>2015-01-01</td>\n",
       "      <td>35.0</td>\n",
       "      <td>6.750</td>\n",
       "      <td>1.0</td>\n",
       "      <td>2.0</td>\n",
       "      <td>2.000000</td>\n",
       "      <td>1.0</td>\n",
       "      <td>1</td>\n",
       "      <td>1</td>\n",
       "      <td>2022-01-01</td>\n",
       "    </tr>\n",
       "    <tr>\n",
       "      <th>1</th>\n",
       "      <td>takluyver/pynsist</td>\n",
       "      <td>327925.0</td>\n",
       "      <td>2015-07-01</td>\n",
       "      <td>2015-01-01</td>\n",
       "      <td>43.0</td>\n",
       "      <td>12.375</td>\n",
       "      <td>1.0</td>\n",
       "      <td>2.0</td>\n",
       "      <td>2.000000</td>\n",
       "      <td>1.0</td>\n",
       "      <td>1</td>\n",
       "      <td>2</td>\n",
       "      <td>2022-01-01</td>\n",
       "    </tr>\n",
       "    <tr>\n",
       "      <th>2</th>\n",
       "      <td>takluyver/pynsist</td>\n",
       "      <td>327925.0</td>\n",
       "      <td>2016-01-01</td>\n",
       "      <td>2015-01-01</td>\n",
       "      <td>26.0</td>\n",
       "      <td>9.250</td>\n",
       "      <td>1.0</td>\n",
       "      <td>3.0</td>\n",
       "      <td>2.333333</td>\n",
       "      <td>1.0</td>\n",
       "      <td>1</td>\n",
       "      <td>3</td>\n",
       "      <td>2022-01-01</td>\n",
       "    </tr>\n",
       "    <tr>\n",
       "      <th>3</th>\n",
       "      <td>takluyver/pynsist</td>\n",
       "      <td>327925.0</td>\n",
       "      <td>2016-07-01</td>\n",
       "      <td>2015-01-01</td>\n",
       "      <td>92.0</td>\n",
       "      <td>9.625</td>\n",
       "      <td>1.0</td>\n",
       "      <td>10.0</td>\n",
       "      <td>4.250000</td>\n",
       "      <td>1.0</td>\n",
       "      <td>1</td>\n",
       "      <td>4</td>\n",
       "      <td>2022-01-01</td>\n",
       "    </tr>\n",
       "    <tr>\n",
       "      <th>4</th>\n",
       "      <td>takluyver/pynsist</td>\n",
       "      <td>327925.0</td>\n",
       "      <td>2017-01-01</td>\n",
       "      <td>2015-01-01</td>\n",
       "      <td>68.0</td>\n",
       "      <td>8.700</td>\n",
       "      <td>1.0</td>\n",
       "      <td>5.0</td>\n",
       "      <td>4.400000</td>\n",
       "      <td>1.0</td>\n",
       "      <td>1</td>\n",
       "      <td>5</td>\n",
       "      <td>2022-01-01</td>\n",
       "    </tr>\n",
       "    <tr>\n",
       "      <th>...</th>\n",
       "      <td>...</td>\n",
       "      <td>...</td>\n",
       "      <td>...</td>\n",
       "      <td>...</td>\n",
       "      <td>...</td>\n",
       "      <td>...</td>\n",
       "      <td>...</td>\n",
       "      <td>...</td>\n",
       "      <td>...</td>\n",
       "      <td>...</td>\n",
       "      <td>...</td>\n",
       "      <td>...</td>\n",
       "      <td>...</td>\n",
       "    </tr>\n",
       "    <tr>\n",
       "      <th>11</th>\n",
       "      <td>astropy/regions</td>\n",
       "      <td>314716.0</td>\n",
       "      <td>2021-07-01</td>\n",
       "      <td>2016-01-01</td>\n",
       "      <td>1.0</td>\n",
       "      <td>8.900</td>\n",
       "      <td>1.0</td>\n",
       "      <td>0.0</td>\n",
       "      <td>12.320000</td>\n",
       "      <td>1.4</td>\n",
       "      <td>0</td>\n",
       "      <td>0</td>\n",
       "      <td>2017-01-01</td>\n",
       "    </tr>\n",
       "    <tr>\n",
       "      <th>12</th>\n",
       "      <td>astropy/regions</td>\n",
       "      <td>314716.0</td>\n",
       "      <td>2022-01-01</td>\n",
       "      <td>2016-01-01</td>\n",
       "      <td>0.0</td>\n",
       "      <td>9.400</td>\n",
       "      <td>1.0</td>\n",
       "      <td>0.0</td>\n",
       "      <td>17.640000</td>\n",
       "      <td>1.4</td>\n",
       "      <td>0</td>\n",
       "      <td>0</td>\n",
       "      <td>2017-01-01</td>\n",
       "    </tr>\n",
       "    <tr>\n",
       "      <th>13</th>\n",
       "      <td>astropy/regions</td>\n",
       "      <td>314716.0</td>\n",
       "      <td>2022-07-01</td>\n",
       "      <td>2016-01-01</td>\n",
       "      <td>0.0</td>\n",
       "      <td>7.000</td>\n",
       "      <td>1.0</td>\n",
       "      <td>0.0</td>\n",
       "      <td>19.080000</td>\n",
       "      <td>1.2</td>\n",
       "      <td>0</td>\n",
       "      <td>0</td>\n",
       "      <td>2017-01-01</td>\n",
       "    </tr>\n",
       "    <tr>\n",
       "      <th>14</th>\n",
       "      <td>astropy/regions</td>\n",
       "      <td>314716.0</td>\n",
       "      <td>2023-01-01</td>\n",
       "      <td>2016-01-01</td>\n",
       "      <td>0.0</td>\n",
       "      <td>6.400</td>\n",
       "      <td>1.0</td>\n",
       "      <td>0.0</td>\n",
       "      <td>19.440000</td>\n",
       "      <td>1.2</td>\n",
       "      <td>0</td>\n",
       "      <td>0</td>\n",
       "      <td>2017-01-01</td>\n",
       "    </tr>\n",
       "    <tr>\n",
       "      <th>15</th>\n",
       "      <td>astropy/regions</td>\n",
       "      <td>314716.0</td>\n",
       "      <td>2023-07-01</td>\n",
       "      <td>2016-01-01</td>\n",
       "      <td>0.0</td>\n",
       "      <td>NaN</td>\n",
       "      <td>1.0</td>\n",
       "      <td>0.0</td>\n",
       "      <td>NaN</td>\n",
       "      <td>1.0</td>\n",
       "      <td>0</td>\n",
       "      <td>0</td>\n",
       "      <td>2017-01-01</td>\n",
       "    </tr>\n",
       "  </tbody>\n",
       "</table>\n",
       "<p>42264 rows × 13 columns</p>\n",
       "</div>"
      ],
      "text/plain": [
       "            repo_name  actor_id time_period earliest_appearance  \\\n",
       "0   takluyver/pynsist  327925.0  2015-01-01          2015-01-01   \n",
       "1   takluyver/pynsist  327925.0  2015-07-01          2015-01-01   \n",
       "2   takluyver/pynsist  327925.0  2016-01-01          2015-01-01   \n",
       "3   takluyver/pynsist  327925.0  2016-07-01          2015-01-01   \n",
       "4   takluyver/pynsist  327925.0  2017-01-01          2015-01-01   \n",
       "..                ...       ...         ...                 ...   \n",
       "11    astropy/regions  314716.0  2021-07-01          2016-01-01   \n",
       "12    astropy/regions  314716.0  2022-01-01          2016-01-01   \n",
       "13    astropy/regions  314716.0  2022-07-01          2016-01-01   \n",
       "14    astropy/regions  314716.0  2023-01-01          2016-01-01   \n",
       "15    astropy/regions  314716.0  2023-07-01          2016-01-01   \n",
       "\n",
       "    issue_comments  issue_comments_75th_pct  general_issue_comments_25th_pct  \\\n",
       "0             35.0                    6.750                              1.0   \n",
       "1             43.0                   12.375                              1.0   \n",
       "2             26.0                    9.250                              1.0   \n",
       "3             92.0                    9.625                              1.0   \n",
       "4             68.0                    8.700                              1.0   \n",
       "..             ...                      ...                              ...   \n",
       "11             1.0                    8.900                              1.0   \n",
       "12             0.0                    9.400                              1.0   \n",
       "13             0.0                    7.000                              1.0   \n",
       "14             0.0                    6.400                              1.0   \n",
       "15             0.0                      NaN                              1.0   \n",
       "\n",
       "      pr  pr_90th_pct  general_pr_25th_pct  issue_exceed  consecutive_periods  \\\n",
       "0    2.0     2.000000                  1.0             1                    1   \n",
       "1    2.0     2.000000                  1.0             1                    2   \n",
       "2    3.0     2.333333                  1.0             1                    3   \n",
       "3   10.0     4.250000                  1.0             1                    4   \n",
       "4    5.0     4.400000                  1.0             1                    5   \n",
       "..   ...          ...                  ...           ...                  ...   \n",
       "11   0.0    12.320000                  1.4             0                    0   \n",
       "12   0.0    17.640000                  1.4             0                    0   \n",
       "13   0.0    19.080000                  1.2             0                    0   \n",
       "14   0.0    19.440000                  1.2             0                    0   \n",
       "15   0.0          NaN                  1.0             0                    0   \n",
       "\n",
       "   final_period  \n",
       "0    2022-01-01  \n",
       "1    2022-01-01  \n",
       "2    2022-01-01  \n",
       "3    2022-01-01  \n",
       "4    2022-01-01  \n",
       "..          ...  \n",
       "11   2017-01-01  \n",
       "12   2017-01-01  \n",
       "13   2017-01-01  \n",
       "14   2017-01-01  \n",
       "15   2017-01-01  \n",
       "\n",
       "[42264 rows x 13 columns]"
      ]
     },
     "execution_count": 43,
     "metadata": {},
     "output_type": "execute_result"
    }
   ],
   "source": [
    "df_candidates"
   ]
  }
 ],
 "metadata": {
  "kernelspec": {
   "display_name": "oss_hierarchy",
   "language": "python",
   "name": "oss_hierarchy"
  },
  "language_info": {
   "codemirror_mode": {
    "name": "ipython",
    "version": 3
   },
   "file_extension": ".py",
   "mimetype": "text/x-python",
   "name": "python",
   "nbconvert_exporter": "python",
   "pygments_lexer": "ipython3",
   "version": "3.12.7"
  }
 },
 "nbformat": 4,
 "nbformat_minor": 5
}
