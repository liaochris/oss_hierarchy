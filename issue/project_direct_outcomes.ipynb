{
 "cells": [
  {
   "cell_type": "code",
   "execution_count": 1,
   "id": "e7ccf431-c012-4997-9aaf-dc0bd4f3bf23",
   "metadata": {},
   "outputs": [],
   "source": [
    "import os\n",
    "os.chdir('../')"
   ]
  },
  {
   "cell_type": "code",
   "execution_count": 2,
   "id": "308b2edb-ca06-45e3-a13e-fce765fe0781",
   "metadata": {},
   "outputs": [
    {
     "name": "stdout",
     "output_type": "stream",
     "text": [
      "INFO: Pandarallel will run on 8 workers.\n",
      "INFO: Pandarallel will use Memory file system to transfer data between the main process and workers.\n"
     ]
    }
   ],
   "source": [
    "\n",
    "import pandas as pd\n",
    "from pathlib import Path\n",
    "import numpy as np\n",
    "import sys\n",
    "import glob\n",
    "import warnings\n",
    "import random\n",
    "from pandarallel import pandarallel\n",
    "from source.lib.JMSLab import autofill\n",
    "from source.lib.helpers import *\n",
    "from ast import literal_eval\n",
    "from concurrent.futures import ThreadPoolExecutor, ProcessPoolExecutor\n",
    "from glob import glob \n",
    "import datetime\n",
    "import itertools\n",
    "import time\n",
    "from multiprocessing import pool\n",
    "from source.lib.helpers import *\n",
    "\n",
    "warnings.filterwarnings(\"ignore\")\n",
    "pd.set_option('display.max_columns', None)\n",
    "pandarallel.initialize(progress_bar = True)"
   ]
  },
  {
   "cell_type": "code",
   "execution_count": 71,
   "id": "a2e1feca-055b-4b08-a973-25e7935aa766",
   "metadata": {},
   "outputs": [],
   "source": [
    "def GetConsecutiveSum(df):\n",
    "    gb = df.groupby((df['active_all'] != df['active_all'].shift()).cumsum())\n",
    "    df['consecutive_periods'] = gb['periods_all'].cumsum()\n",
    "    df.loc[df['active_all'] == 0, 'consecutive_periods'] = 0\n",
    "    return df"
   ]
  },
  {
   "cell_type": "code",
   "execution_count": null,
   "id": "87f94fd9-3f4a-4911-baff-006606a90c01",
   "metadata": {
    "scrolled": true
   },
   "outputs": [],
   "source": [
    "indir_committers_info = Path('drive/output/scrape/link_committers_profile')\n",
    "indir_data = Path('drive/output/derived/data_export')\n",
    "\n",
    "commit_cols = ['commits','commit additions','commit deletions','commit changes total','commit files changed count']\n",
    "author_thresh = 1/3\n",
    "time_period = 6\n",
    "rolling_window = '1828D'\n",
    "SECONDS_IN_DAY = 86400\n",
    "closing_day_options = [30, 60, 90, 180, 360]\n",
    "\n",
    "df_issue = pd.read_parquet(indir_data / 'df_issue.parquet')\n",
    "df_pr = pd.read_parquet(indir_data / 'df_pr.parquet')\n",
    "df_pr_commits = pd.read_parquet(indir_data / 'df_pr_commits.parquet')\n",
    "df_linked_issues = ReadFileList(glob('drive/output/scrape/link_issue_pull_request/linked_issue/*.csv'))\n",
    "\n",
    "df_issue['created_at'] = pd.to_datetime(df_issue['created_at'])\n",
    "df_pr['created_at'] = pd.to_datetime(df_pr['created_at'])"
   ]
  },
  {
   "cell_type": "code",
   "execution_count": null,
   "id": "d2b42bf9-8198-42c5-b02b-d10117b794de",
   "metadata": {},
   "outputs": [],
   "source": [
    "#sample_size = 100\n",
    "#selected_repos = df_issue[['repo_name']].drop_duplicates().sample(sample_size, random_state = 1235)['repo_name'].tolist()\n",
    "selected_repos = df_issue[['repo_name']].drop_duplicates()['repo_name'].tolist()"
   ]
  },
  {
   "cell_type": "code",
   "execution_count": null,
   "id": "47e9152a-f753-44da-aa3c-9ec19aa88351",
   "metadata": {},
   "outputs": [],
   "source": [
    "df_issue_selected = df_issue[(df_issue['repo_name'].isin(selected_repos)) & (df_issue['created_at']>='2015-01-01')]\n",
    "df_pr_selected = df_pr[(df_pr['repo_name'].isin(selected_repos))  & (df_pr['created_at']>='2015-01-01')]\n",
    "df_pr_commits_selected = df_pr_commits[(df_pr_commits['repo_name'].isin(selected_repos))]\n",
    "df_linked_issues = df_linked_issues[(df_linked_issues['repo_name'].isin(selected_repos))]"
   ]
  },
  {
   "cell_type": "code",
   "execution_count": null,
   "id": "815c3246-f4a8-405d-93c2-6e154d58222a",
   "metadata": {
    "scrolled": true
   },
   "outputs": [],
   "source": [
    "df_issue_selected = ImputeTimePeriod(df_issue_selected, time_period)\n",
    "df_pr_selected = ImputeTimePeriod(df_pr_selected, time_period)"
   ]
  },
  {
   "cell_type": "code",
   "execution_count": null,
   "id": "6be0b24e-56db-421e-9cfb-fc49919c6467",
   "metadata": {},
   "outputs": [],
   "source": [
    "df_repo_panel = pd.concat([df_issue_selected[['repo_name','time_period']].drop_duplicates(), \n",
    "                           df_pr_selected[['repo_name','time_period']].drop_duplicates()]).drop_duplicates()\\\n",
    "    .groupby('repo_name')\\\n",
    "    .agg({'time_period': ['min','max']})\\\n",
    "    .reset_index()\\\n",
    "    .rename({('time_period','min'): 'earliest-date',\n",
    "             ('time_period','max'): 'latest_date'}, axis = 1)\n",
    "df_repo_panel.columns = ['repo_name','earliest_date','latest_date']\n",
    "df_repo_panel['time_period'] = df_repo_panel.apply(lambda x: pd.date_range(x['earliest_date'], x['latest_date'] , freq=f'{time_period}MS').tolist(), axis = 1)\n",
    "df_repo_panel = df_repo_panel.drop(['earliest_date', 'latest_date'], axis = 1).explode('time_period')"
   ]
  },
  {
   "cell_type": "code",
   "execution_count": null,
   "id": "750f21cf-203e-4ac4-ac5b-87fb0f7d3221",
   "metadata": {
    "scrolled": true
   },
   "outputs": [],
   "source": [
    "df_opened_issues = df_issue_selected.query('issue_action == \"opened\"')[\n",
    "    ['repo_name','issue_number','time_period', 'created_at']]\\\n",
    "    .assign(opened_issue=1)\\\n",
    "    .sort_values('created_at',ascending = True)\\\n",
    "    .drop_duplicates(['repo_name','issue_number'])\n",
    "df_closed_issues =  df_issue_selected.query('issue_action == \"closed\"')[\n",
    "    ['repo_name','issue_number','time_period', 'created_at']]\\\n",
    "    .sort_values('created_at',ascending = True)\\\n",
    "    .drop_duplicates(['repo_name','issue_number'])\\\n",
    "    .assign(closed_issue = 1)\\\n",
    "    .rename({'time_period':'closed_time_period','created_at':'closed_at'}, axis = 1)\n",
    "\n",
    "df_issues_sans_comments = pd.merge(df_opened_issues, df_closed_issues, how = 'left')\n",
    "## TODO: how many closed issues are unlinked"
   ]
  },
  {
   "cell_type": "code",
   "execution_count": null,
   "id": "7d455867-6c4b-4aea-839d-7690d4431dc0",
   "metadata": {
    "scrolled": true
   },
   "outputs": [],
   "source": [
    "df_issue_comments = df_issue_selected.query('type == \"IssueCommentEvent\"')\\\n",
    "    [['issue_number','issue_comment_id','repo_name']]\\\n",
    "    .drop_duplicates()\\\n",
    "    .assign(issue_comments=1)\\\n",
    "    .groupby(['repo_name','issue_number'])['issue_comments'].sum()\\\n",
    "    .reset_index()\n",
    "\n",
    "# TODO: how many unlinked issues by issue comments\n",
    "df_issues = pd.merge(df_issues_sans_comments, df_issue_comments, how = 'left')\n",
    "for col in ['closed_issue','issue_comments']:    \n",
    "    df_issues[col] = df_issues[col].fillna(0)\n",
    "\n",
    "df_issues['days_to_close'] = (df_issues['closed_at'] - df_issues['created_at']).apply(lambda x: x.total_seconds()/SECONDS_IN_DAY)\n",
    "for day in closing_day_options:\n",
    "    df_issues[f'closed_in_{day}_days'] = pd.to_numeric(df_issues['days_to_close']<day).astype(int)\n",
    "\n",
    "df_issues_stats = df_issues.groupby(['repo_name','time_period'])\\\n",
    "    .agg({'opened_issue': 'sum','closed_issue':['sum','mean'],\n",
    "          'issue_comments':['sum', 'mean'],\n",
    "          'closed_in_30_days':'mean', 'closed_in_60_days':'mean','closed_in_90_days':'mean',\n",
    "          'closed_in_180_days':'mean', 'closed_in_360_days':'mean'})\n",
    "df_issues_stats.columns = df_issues_stats.columns.to_flat_index()\n",
    "df_issues_stats = df_issues_stats.reset_index()\\\n",
    "    .rename(columns = {('opened_issue','sum'): 'opened_issues',\n",
    "             ('closed_issue', 'sum'): 'closed_issues',\n",
    "             ('closed_issue', 'mean'): 'p_issues_closed',\n",
    "             ('issue_comments', 'sum'): 'issue_comments',\n",
    "             ('issue_comments', 'mean'): 'avg_issue_commments',\n",
    "             ('closed_in_30_days', 'mean'): 'p_issues_closed_30d',\n",
    "             ('closed_in_60_days', 'mean'): 'p_issues_closed_60d',\n",
    "             ('closed_in_90_days', 'mean'): 'p_issues_closed_90d',\n",
    "             ('closed_in_180_days', 'mean'): 'p_issues_closed_180d',\n",
    "             ('closed_in_360_days', 'mean'): 'p_issues_closed_360d'})"
   ]
  },
  {
   "cell_type": "code",
   "execution_count": null,
   "id": "3934e776-d9cb-43f8-a888-b29197d65af5",
   "metadata": {
    "scrolled": true
   },
   "outputs": [],
   "source": [
    "df_opened_prs = df_pr_selected.query('pr_action == \"opened\"')[\n",
    "    ['repo_name','pr_number','time_period', 'created_at']].drop_duplicates()\\\n",
    "    .assign(opened_pr=1)\\\n",
    "    .sort_values('created_at',ascending = True)\\\n",
    "    .drop_duplicates(['repo_name','pr_number'])\n",
    "df_closed_prs = df_pr_selected.query('pr_action==\"closed\" & pr_merged_by_id.isna()')[\n",
    "    ['repo_name','pr_number','time_period', 'created_at']].drop_duplicates()\\\n",
    "    .sort_values('created_at',ascending = True)\\\n",
    "    .drop_duplicates(['repo_name','pr_number'])\\\n",
    "    .assign(closed_unmerged_pr = 1)\\\n",
    "    .rename({'time_period':'closed_unmerged_time_period','created_at':'closed_unmerged_at'}, axis = 1)\n",
    "\n",
    "df_merged_prs = df_pr_selected.query('pr_action==\"closed\" & ~pr_merged_by_id.isna()')[\n",
    "    ['repo_name','pr_number','time_period', 'created_at', 'pr_merged_by_type']].drop_duplicates()\\\n",
    "    .sort_values('created_at',ascending = True)\\\n",
    "    .drop_duplicates(['repo_name','pr_number'])\\\n",
    "    .assign(merged_pr = 1)\\\n",
    "    .rename({'time_period':'merged_time_period','created_at':'merged_at'}, axis = 1)\n",
    "\n",
    "df_prs_sans_reviews = pd.merge(df_opened_prs, df_closed_prs, how = 'left').merge(df_merged_prs, how = 'left')"
   ]
  },
  {
   "cell_type": "code",
   "execution_count": null,
   "id": "49ae1e04-ab77-43ad-b9d4-93f936e1ed5d",
   "metadata": {
    "scrolled": true
   },
   "outputs": [],
   "source": [
    "df_pr_reviews = df_pr_selected.query('type == \"PullRequestReviewEvent\"')[\n",
    "    ['repo_name','pr_number','time_period', 'created_at','pr_review_id','pr_review_state']].drop_duplicates()\\\n",
    "    .sort_values('created_at',ascending = True)\\\n",
    "    .drop_duplicates(['repo_name','pr_number','pr_review_id'])\\\n",
    "    .assign(pr_review = 1)\n",
    "for col in ['commented','approved','changes_requested']:\n",
    "    df_pr_reviews[f'review_state_{col}'] = pd.to_numeric(df_pr_reviews['pr_review_state']==col).astype(int)\n",
    "df_pr_review_stats = df_pr_reviews.groupby(['repo_name','pr_number'])\\\n",
    "    [['pr_review','review_state_commented','review_state_approved','review_state_changes_requested']].sum().reset_index()"
   ]
  },
  {
   "cell_type": "code",
   "execution_count": null,
   "id": "72dd6201-28d4-4d8d-981e-082b79180123",
   "metadata": {},
   "outputs": [],
   "source": [
    "df_pr_review_comments = df_pr_selected.query('type == \"PullRequestReviewCommentEvent\"')[\n",
    "    ['repo_name','pr_number','time_period', 'created_at','pr_review_comment_body']].drop_duplicates()\\\n",
    "    .sort_values('created_at',ascending = True)\\\n",
    "    .drop_duplicates(['repo_name','pr_number','pr_review_comment_body'])\\\n",
    "    .assign(pr_review_comment = 1)\n",
    "df_pr_review_comments_stats = df_pr_review_comments.groupby(['repo_name','pr_number'])\\\n",
    "    [['pr_review_comment']].sum().reset_index()"
   ]
  },
  {
   "cell_type": "code",
   "execution_count": null,
   "id": "861f5816-eee4-4760-a0a4-94e5a88fc603",
   "metadata": {},
   "outputs": [],
   "source": [
    "df_prs_complete = pd.merge(df_prs_sans_reviews, df_pr_review_stats, how = 'left').merge(df_pr_review_comments_stats, how = 'left')\n",
    "for col in ['closed_unmerged_pr', 'merged_pr', 'pr_review','review_state_commented',\n",
    "            'review_state_approved','review_state_changes_requested','pr_review_comment']:    \n",
    "    df_prs_complete[col] = df_prs_complete[col].fillna(0)\n",
    "df_prs_complete['pr_review_comments_total'] = df_prs_complete['pr_review']+df_prs_complete['pr_review_comment']\n",
    "\n",
    "df_prs_complete['days_to_merge'] = (df_prs_complete['merged_at'] - df_prs_complete['created_at']).apply(lambda x: x.total_seconds()/SECONDS_IN_DAY)\n",
    "for day in closing_day_options:\n",
    "    df_prs_complete[f'merged_in_{day}_days'] = pd.to_numeric(df_prs_complete['days_to_merge']<day).astype(int)\n",
    "\n",
    "df_prs_stats = df_prs_complete.groupby(['repo_name','time_period'])\\\n",
    "    .agg({'opened_pr': 'sum','merged_pr':['sum','mean'],\n",
    "          'pr_review': ['sum','mean'], 'pr_review_comment': ['sum','mean'],\n",
    "          'review_state_commented':'mean', 'review_state_approved': 'mean',\n",
    "          'review_state_changes_requested': 'mean',\n",
    "          'merged_in_30_days':'mean', 'merged_in_60_days':'mean','merged_in_90_days':'mean',\n",
    "          'merged_in_180_days':'mean', 'merged_in_360_days':'mean'})\n",
    "df_prs_stats.columns = df_prs_stats.columns.to_flat_index()\n",
    "df_prs_stats = df_prs_stats.reset_index()\\\n",
    "    .rename(columns = {('opened_pr','sum'): 'opened_prs',\n",
    "                       ('merged_pr','sum'): 'merged_prs',\n",
    "                       ('merged_pr','mean'): 'p_prs_merged',\n",
    "                       ('pr_review','sum'): 'pr_reviews',\n",
    "                       ('pr_review','mean'): 'mean_reviews_per_pr',\n",
    "                       ('pr_review_comment','sum'):'pr_review_comments',\n",
    "                       ('pr_review_comment','mean'):'mean_review_comments_per_pr',\n",
    "                       ('review_state_commented','mean'):'p_review_state_commented',\n",
    "                       ('review_state_approved','mean'):'p_review_state_approved',\n",
    "                       ('review_state_changes_requested','mean'):'p_review_state_changes_requested',\n",
    "                       ('closed_issue', 'sum'): 'closed_issues',\n",
    "                       ('closed_issue', 'mean'): 'p_issues_closed',\n",
    "                       ('merged_in_30_days', 'mean'): 'p_prs_merged_30d',\n",
    "                       ('merged_in_60_days', 'mean'): 'p_prs_merged_60d',\n",
    "                       ('merged_in_90_days', 'mean'): 'p_prs_merged_90d',\n",
    "                       ('merged_in_180_days', 'mean'): 'p_prs_merged_180d',\n",
    "                       ('merged_in_360_days', 'mean'): 'p_prs_merged_360d'})"
   ]
  },
  {
   "cell_type": "code",
   "execution_count": null,
   "id": "ac090a4d-30fe-4f72-8a00-146507ab9ffa",
   "metadata": {},
   "outputs": [],
   "source": [
    "df_stats = pd.merge(df_issues_stats, df_prs_stats, how = 'outer')\n",
    "df_repo_panel_stats = pd.merge(df_repo_panel, df_stats, how = 'left')\n",
    "#df_repo_panel_stats.to_parquet('issue/direct_outcomes.parquet')"
   ]
  },
  {
   "cell_type": "code",
   "execution_count": null,
   "id": "ceaf33ca-14ce-4ff7-8853-36b359198ec1",
   "metadata": {},
   "outputs": [],
   "source": [
    "#df_stats = pd.read_parquet('issue/direct_outcomes.parquet')"
   ]
  },
  {
   "cell_type": "code",
   "execution_count": null,
   "id": "d080eed7-2c6c-4a39-8c58-7faca8c9d17d",
   "metadata": {},
   "outputs": [],
   "source": [
    "departure_candidates = pd.read_parquet('issue/candidates.parquet')"
   ]
  },
  {
   "cell_type": "code",
   "execution_count": null,
   "id": "2982e575-a8a5-4af7-b937-faa79c4e6539",
   "metadata": {
    "scrolled": true
   },
   "outputs": [],
   "source": [
    "repo_appears_once = departure_candidates[['repo_name','actor_id']]\\\n",
    "    .drop_duplicates()\\\n",
    "    ['repo_name'].value_counts()\\\n",
    "    .reset_index()\\\n",
    "    .query('count==1')\\\n",
    "    ['repo_name'].tolist()\n",
    "departure_repos = departure_candidates['repo_name'].unique().tolist()\n",
    "all_repos = df_repo_panel_stats['repo_name'].unique().tolist()\n",
    "repo_never_appears = [repo for repo in all_repos if repo not in departure_repos]"
   ]
  },
  {
   "cell_type": "code",
   "execution_count": null,
   "id": "4692a3bd-70b0-4670-9fe8-c6a6ea5f8b53",
   "metadata": {
    "scrolled": true
   },
   "outputs": [],
   "source": [
    "repo_one_treatment = df_repo_panel_stats[\n",
    "    df_repo_panel_stats['repo_name'].isin(repo_never_appears + repo_appears_once)]\n",
    "treated_date = departure_candidates[departure_candidates['repo_name'].isin(repo_appears_once)]\\\n",
    "    [['repo_name','final_period']].drop_duplicates()"
   ]
  },
  {
   "cell_type": "code",
   "execution_count": 27,
   "id": "42229e72-8ba4-4306-8cde-2c42c8e95ea4",
   "metadata": {},
   "outputs": [],
   "source": [
    "df_repo_one_treatment_panel = pd.merge(repo_one_treatment, treated_date, how = 'left')"
   ]
  },
  {
   "cell_type": "code",
   "execution_count": 28,
   "id": "24ad394b-bebc-477c-b802-8443b2db46e5",
   "metadata": {},
   "outputs": [
    {
     "data": {
      "application/vnd.jupyter.widget-view+json": {
       "model_id": "8a41d1982e424e93ba1c9b393326ff7c",
       "version_major": 2,
       "version_minor": 0
      },
      "text/plain": [
       "VBox(children=(HBox(children=(IntProgress(value=0, description='0.00%', max=11247), Label(value='0 / 11247')))…"
      ]
     },
     "metadata": {},
     "output_type": "display_data"
    }
   ],
   "source": [
    "for col in [['opened_issues','closed_issues','opened_prs']]:\n",
    "    df_repo_one_treatment_panel[col] = df_repo_one_treatment_panel[col].fillna(0)\n",
    "df_repo_one_treatment_panel['treatment'] = df_repo_one_treatment_panel.parallel_apply(\n",
    "    lambda x: 0 if pd.isnull(x['final_period']) else int(x['time_period']>x['final_period']), axis = 1)"
   ]
  },
  {
   "cell_type": "code",
   "execution_count": 29,
   "id": "b992163b-efdb-47ae-bfe5-fd7f0dea0b9e",
   "metadata": {
    "scrolled": true
   },
   "outputs": [],
   "source": [
    "time_period_dict = df_repo_one_treatment_panel['time_period'].sort_values().drop_duplicates().reset_index(drop = True).to_dict()\n",
    "time_period_dict = {v: k for (k, v) in time_period_dict.items()}\n",
    "df_repo_one_treatment_panel['time_index'] = df_repo_one_treatment_panel['time_period'].apply(lambda x: time_period_dict[x])"
   ]
  },
  {
   "cell_type": "code",
   "execution_count": 70,
   "id": "b3e74ef7-ae5a-466f-adf4-b4184055c92c",
   "metadata": {
    "scrolled": true
   },
   "outputs": [],
   "source": [
    "df_repo_one_treatment_panel['active_all'] = df_repo_one_treatment_panel.apply(\n",
    "    lambda x: x['opened_issues']>0 and x['opened_prs']>0, axis = 1).astype(int)"
   ]
  },
  {
   "cell_type": "code",
   "execution_count": 37,
   "id": "06c569d5-bb08-421b-bd3a-ee3b437cf7f5",
   "metadata": {},
   "outputs": [],
   "source": [
    "df_repo_one_treatment_panel['mean_activity_all'] = df_repo_one_treatment_panel.groupby('repo_name')['active_all'].transform('mean')\n",
    "df_repo_one_treatment_panel['periods_all'] = df_repo_one_treatment_panel.groupby('repo_name')['active_all'].transform('sum')"
   ]
  },
  {
   "cell_type": "code",
   "execution_count": 72,
   "id": "c1b4c093-2e51-46c3-916a-c90c80889db1",
   "metadata": {
    "scrolled": true
   },
   "outputs": [
    {
     "data": {
      "application/vnd.jupyter.widget-view+json": {
       "model_id": "da8fc28be766475584e5109a8f954bbf",
       "version_major": 2,
       "version_minor": 0
      },
      "text/plain": [
       "VBox(children=(HBox(children=(IntProgress(value=0, description='0.00%', max=905), Label(value='0 / 905'))), HB…"
      ]
     },
     "metadata": {},
     "output_type": "display_data"
    }
   ],
   "source": [
    "df_repo_one_treatment_panel = df_repo_one_treatment_panel.groupby(['repo_name']).parallel_apply(GetConsecutiveSum).reset_index(drop = True)"
   ]
  },
  {
   "cell_type": "code",
   "execution_count": 95,
   "id": "05b76940-b6dd-43dd-9aa2-a8735b3c48e5",
   "metadata": {},
   "outputs": [],
   "source": [
    "active_2019onwards = df_repo_one_treatment_panel.query('time_period>=\"2019-01-01\" & time_period < \"2023-07-01\"')\\\n",
    "    .groupby('repo_name')[['active_all']].sum().query('active_all == 9').index.tolist()"
   ]
  },
  {
   "cell_type": "code",
   "execution_count": 93,
   "id": "0bb1e287-0313-4369-b851-196ec105ce06",
   "metadata": {},
   "outputs": [],
   "source": [
    "active_2018onwards = df_repo_one_treatment_panel.query('time_period>=\"2018-01-01\" & time_period < \"2023-07-01\"')\\\n",
    "    .groupby('repo_name')[['active_all']].sum().query('active_all == 11').index.tolist()"
   ]
  },
  {
   "cell_type": "code",
   "execution_count": 100,
   "id": "9c99df55-1729-41ea-8eb1-d6047b603589",
   "metadata": {
    "scrolled": true
   },
   "outputs": [],
   "source": [
    "active_2017onwards = df_repo_one_treatment_panel.query('time_period>=\"2017-01-01\" & time_period < \"2023-07-01\"')\\\n",
    "    .groupby('repo_name')[['active_all']].sum().query('active_all == 13').index.tolist()"
   ]
  },
  {
   "cell_type": "code",
   "execution_count": 101,
   "id": "c86d99f2-d74d-4dbd-82c9-2639c12450ba",
   "metadata": {},
   "outputs": [],
   "source": [
    "df_repo_one_treatment_panel['2017_sample'] = df_repo_one_treatment_panel['repo_name'].isin(active_2017onwards).astype(int)\n",
    "df_repo_one_treatment_panel['2018_sample'] = df_repo_one_treatment_panel['repo_name'].isin(active_2018onwards).astype(int)\n",
    "df_repo_one_treatment_panel['2019_sample'] = df_repo_one_treatment_panel['repo_name'].isin(active_2019onwards).astype(int)"
   ]
  },
  {
   "cell_type": "code",
   "execution_count": null,
   "id": "045ee421-9ed4-4a3e-adf8-1dba5ca969be",
   "metadata": {},
   "outputs": [],
   "source": []
  },
  {
   "cell_type": "code",
   "execution_count": 102,
   "id": "5856dc87-db4a-4299-a848-47112a88d5f8",
   "metadata": {},
   "outputs": [],
   "source": [
    "df_repo_one_treatment_panel.to_csv('issue/one_treatment_panel.csv')"
   ]
  }
 ],
 "metadata": {
  "kernelspec": {
   "display_name": "oss_hierarchy",
   "language": "python",
   "name": "oss_hierarchy"
  },
  "language_info": {
   "codemirror_mode": {
    "name": "ipython",
    "version": 3
   },
   "file_extension": ".py",
   "mimetype": "text/x-python",
   "name": "python",
   "nbconvert_exporter": "python",
   "pygments_lexer": "ipython3",
   "version": "3.12.7"
  }
 },
 "nbformat": 4,
 "nbformat_minor": 5
}
