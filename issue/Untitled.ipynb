{
 "cells": [
  {
   "cell_type": "markdown",
   "id": "68a4c217-b105-4610-9606-cf027e0b0e31",
   "metadata": {},
   "source": [
    "data showcase"
   ]
  },
  {
   "cell_type": "markdown",
   "id": "877eb32c-cb2a-42b3-8feb-922f5a6dc0cc",
   "metadata": {},
   "source": [
    "# GitHub Data\n",
    "\n",
    "- Issue\n",
    "- Pull Request\n",
    "- Release\n",
    "- commit data (PRs, pushes)\n",
    "- issue PR links\n",
    "\n",
    "Helps characterize the different types of contributions that are being made \n",
    "\n",
    "Opportunity for deeper analysis (files, etc)\n",
    "\n",
    "Once I need to, I can deploy git blame"
   ]
  },
  {
   "cell_type": "markdown",
   "id": "9a73f693-1a6a-47c3-abca-4561bf24ad08",
   "metadata": {},
   "source": [
    "# Committers profiles\n",
    "- Can be used for linkedin merging\n",
    "- also has emails that can be used for corporate affiliation imputation"
   ]
  },
  {
   "cell_type": "markdown",
   "id": "8c416e38-9f92-4944-9491-db2945bee1df",
   "metadata": {},
   "source": [
    "# Project Data\n",
    "- scorecard (also good opportunity for me to understand and learn the metrics)\n",
    "- truckfactor (do I want to get %'s..?)\n",
    "- package downloads (do I need to do all version types? what about installer types?)\n",
    "show graph of releases from way back maybe? to show that downloads are informative"
   ]
  }
 ],
 "metadata": {
  "kernelspec": {
   "display_name": "oss_hierarchy",
   "language": "python",
   "name": "oss_hierarchy"
  },
  "language_info": {
   "codemirror_mode": {
    "name": "ipython",
    "version": 3
   },
   "file_extension": ".py",
   "mimetype": "text/x-python",
   "name": "python",
   "nbconvert_exporter": "python",
   "pygments_lexer": "ipython3",
   "version": "3.12.7"
  }
 },
 "nbformat": 4,
 "nbformat_minor": 5
}
