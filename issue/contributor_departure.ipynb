{
 "cells": [
  {
   "cell_type": "code",
   "execution_count": 1,
   "id": "b4e815d6-c66d-4155-af31-572e47e5992e",
   "metadata": {},
   "outputs": [],
   "source": [
    "import os\n",
    "os.chdir('../')"
   ]
  },
  {
   "cell_type": "code",
   "execution_count": 2,
   "id": "b6d3e464-9f3f-4bf5-9f49-1413e70b2c7c",
   "metadata": {},
   "outputs": [
    {
     "name": "stdout",
     "output_type": "stream",
     "text": [
      "INFO: Pandarallel will run on 8 workers.\n",
      "INFO: Pandarallel will use Memory file system to transfer data between the main process and workers.\n"
     ]
    }
   ],
   "source": [
    "import pandas as pd\n",
    "from pathlib import Path\n",
    "import numpy as np\n",
    "import sys\n",
    "import glob\n",
    "import warnings\n",
    "import random\n",
    "from pandarallel import pandarallel\n",
    "from source.lib.JMSLab import autofill\n",
    "from source.lib.helpers import ExportTable, AddToTableList\n",
    "\n",
    "warnings.filterwarnings(\"ignore\")\n",
    "pd.set_option('display.max_columns', None)\n",
    "pandarallel.initialize(progress_bar = True)"
   ]
  },
  {
   "cell_type": "code",
   "execution_count": 3,
   "id": "35f52483-b7da-4f88-a4fa-ba661c421c9d",
   "metadata": {},
   "outputs": [],
   "source": [
    "def ReadPrIssueData(file_dirs, data_cols):\n",
    "    df_final = pd.DataFrame(columns = data_cols)\n",
    "    for file in file_dirs:\n",
    "        df_part = pd.read_csv(file, nrows = 1)\n",
    "        df_part_cols = [col for col in data_cols if col in df_part.columns]\n",
    "        df_part = pd.read_csv(file, usecols = df_part_cols)\n",
    "        df_final = pd.concat([df_final, df_part]).drop_duplicates()\n",
    "\n",
    "    df_final = AddDates(df_final)\n",
    "\n",
    "    return df_final\n",
    "\n",
    "def AddDates(df):\n",
    "    df['created_at'] = pd.to_datetime(df['created_at'])\n",
    "    df['date'] = df.parallel_apply(lambda x: f\"{x['created_at'].year}-{x['created_at'].month}\", axis = 1)\n",
    "\n",
    "    return df\n"
   ]
  },
  {
   "cell_type": "code",
   "execution_count": 4,
   "id": "d3b5c459-2db2-4200-86ea-f70b8d9675ea",
   "metadata": {},
   "outputs": [],
   "source": [
    "def read_parquet(filename, commit_cols):\n",
    "    try:\n",
    "        df = pd.read_parquet(filename).drop_duplicates('commit sha')[commit_cols]\n",
    "        return df\n",
    "    except:\n",
    "        return "
   ]
  },
  {
   "cell_type": "code",
   "execution_count": 5,
   "id": "3c226a8e-b3bb-4f10-ad2e-fd7b93591e0e",
   "metadata": {},
   "outputs": [],
   "source": [
    "def read_csv(filename, commit_cols):\n",
    "    try:\n",
    "        df = pd.read_csv(filename, index_col = 0).drop_duplicates('commit sha')[commit_cols]\n",
    "        return df\n",
    "    except:\n",
    "        return "
   ]
  },
  {
   "cell_type": "code",
   "execution_count": null,
   "id": "467c1681-f300-45a4-a570-ac09e0cdc232",
   "metadata": {},
   "outputs": [],
   "source": [
    "pr_data_indir = glob.glob('drive/output/scrape/extract_github_data/pull_request_data/*.csv')\n",
    "pr_data_indir.extend(glob.glob('drive/output/scrape/extract_github_data/pull_request_review_data/*.csv'))\n",
    "pr_data_indir.extend(glob.glob('drive/output/scrape/extract_github_data/pull_request_review_comment_data/*.csv'))\n",
    "pr_cols = ['type','created_at','repo_id','repo_name','actor_id','actor_login','pr_number', 'pr_title',\n",
    "           'pr_body', 'pr_action','pr_merged_by_id','pr_merged_by_type','pr_label', 'pr_review_action',\n",
    "           'pr_review_id','pr_review_state', 'pr_review_body', 'pr_review_comment_body']\n",
    "df_pr = ReadPrIssueData(pr_data_indir, pr_cols)\n",
    "\n",
    "issue_data_indir = glob.glob('drive/output/scrape/extract_github_data/issue_data/*.csv')\n",
    "issue_data_indir.extend(glob.glob('drive/output/scrape/extract_github_data/issue_comment_data/*.csv'))\n",
    "issue_cols = ['type','created_at','repo_id','repo_name','actor_id','actor_login','issue_number', 'issue_body','issue_title',\n",
    "              'issue_action','issue_state', 'issue_comment_id', 'issue_user_id', 'issue_comment_body']\n",
    "df_issue = ReadPrIssueData(issue_data_indir, issue_cols)"
   ]
  },
  {
   "cell_type": "code",
   "execution_count": null,
   "id": "9d764935-185e-462e-a86c-ffaecdd52561",
   "metadata": {},
   "outputs": [],
   "source": [
    "df_pr_selected = df_pr\n",
    "df_issue_selected = df_issue"
   ]
  },
  {
   "cell_type": "code",
   "execution_count": null,
   "id": "edfc1163-26b6-4c06-b31e-326571544518",
   "metadata": {},
   "outputs": [],
   "source": [
    "df_commiters_raw = pd.read_csv('drive/output/scrape/link_committers_profile/committers_info.csv', index_col = 0)\n",
    "for col in ['commit_repo','committer_info']:\n",
    "    df_commiters_raw[col] = df_commiters_raw[col].apply(lambda x: literal_eval(x) if not pd.isnull(x) else x)\n",
    "df_commiters_raw['repo_name'] = df_commiters_raw['commit_repo'].apply(lambda x: x[0].split(\"_\")[-1] if type(x) == list else x)\n",
    "df_commiters = df_commiters_raw[['name','email','repo_name','committer_info']].drop_duplicates(\n",
    "    ['name','email','repo_name']).dropna()"
   ]
  },
  {
   "cell_type": "code",
   "execution_count": null,
   "id": "0d5992c9-e167-4f78-b8ff-e1b7b3ffe60c",
   "metadata": {},
   "outputs": [],
   "source": [
    "commit_cols = ['repo_name','commit author name','commit author email', 'commit additions',\n",
    "               'commit deletions','commit changes total','commit files changed count', 'commit file changes']\n",
    "df_pr_commits = pd.concat([read_parquet(filename, commit_cols) for filename in glob.glob('drive/output/scrape/collect_commits/pr/*')])\n",
    "df_pr_commits.to_csv('issue/df_pr_commits.csv')"
   ]
  },
  {
   "cell_type": "code",
   "execution_count": null,
   "id": "c69ed25b-257f-48b6-93c7-92ffffd7d666",
   "metadata": {},
   "outputs": [],
   "source": [
    "df_pr_commits = pd.concat([read_parquet(filename, commit_cols) for filename in glob.glob('drive/output/scrape/collect_commits/push/*')])\n",
    "df_pr_commits.to_csv('issue/df_pr_commits.csv')"
   ]
  }
 ],
 "metadata": {
  "kernelspec": {
   "display_name": "oss_hierarchy",
   "language": "python",
   "name": "oss_hierarchy"
  },
  "language_info": {
   "codemirror_mode": {
    "name": "ipython",
    "version": 3
   },
   "file_extension": ".py",
   "mimetype": "text/x-python",
   "name": "python",
   "nbconvert_exporter": "python",
   "pygments_lexer": "ipython3",
   "version": "3.12.7"
  }
 },
 "nbformat": 4,
 "nbformat_minor": 5
}
