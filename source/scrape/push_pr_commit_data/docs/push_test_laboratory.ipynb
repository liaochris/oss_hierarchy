{
 "cells": [
  {
   "cell_type": "code",
   "execution_count": 7,
   "id": "62f79b95-8294-4f1e-bab5-aea4ff6b0aaa",
   "metadata": {},
   "outputs": [],
   "source": [
    "import pandas as pd\n",
    "from pathlib import Path\n",
    "import os\n",
    "import requests"
   ]
  },
  {
   "cell_type": "code",
   "execution_count": 38,
   "id": "8c3002e9-5fa7-4a9a-8352-077e4485fe07",
   "metadata": {},
   "outputs": [],
   "source": [
    "def Main():\n",
    "    indir_push = Path('drive/output/scrape/extract_github_data/push_data/')\n",
    "    outdir_push = Path('drive/output/scrape/push_pr_commit_data/push_data/')\n",
    "\n",
    "    username = os.environ['PRIMARY_GITHUB_USERNAME']\n",
    "    token = os.environ['PRIMARY_GITHUB_TOKEN']\n",
    "    backup_username = os.environ['BACKUP_GITHUB_USERNAME']\n",
    "    backup_token = os.environ['BACKUP_GITHUB_TOKEN']\n",
    "    \n",
    "    for subset_year in np.arange(2015, 2024, 1): # start at 2015 because commit data is unavailable earlier\n",
    "        for subset_month in np.arange(1, 13, 1):\n",
    "            if (subset_year != 2023) or (subset_year == 2023 and subset_month < 9):\n",
    "                df_push = pd.read_csv(indir_push / f\"push_data_{subset_year}_{subset_month}.csv\", index_col = 0)\n",
    "                df_push = df_push[['push_id', 'push_size', 'repo_name','push_before','push_head','commit_urls']].drop_duplicates()\n",
    "\n",
    "                df_push_query_commits = df_push.query('push_size>20 | commit_urls == \"[]\"').index\n",
    "                df_push.loc[df_push_query_commits, 'commit_urls'] = df_push.loc[df_push_query_commits].apply(\n",
    "                    lambda x: getCommits(x['repo_name'], x['push_before'], x['push_head'], x['commit_urls'],\n",
    "                                         username, token, backup_username, backup_token), axis = 1)\n",
    "\n",
    "                df_push_final = df_push[['push_id', 'commit_urls']].to_csv(outdir_push / f\"push_data_{subset_year}_{subset_month}.csv\", index_col = 0)"
   ]
  },
  {
   "cell_type": "code",
   "execution_count": 10,
   "id": "77fc8236-197b-4fe3-a3fa-484df7c95eda",
   "metadata": {},
   "outputs": [],
   "source": [
    "def getCommits(repo_info, before, head, original_urls, username, token, backup_username, backup_token, second_try = 0):\n",
    "    api_url = f\"https://api.github.com/repos/{repo_info}/compare/{before}...{head}\"\n",
    "    try:\n",
    "        with requests.get(api_url, auth=(username,token)) as url:\n",
    "            data = url.json()\n",
    "        commits = data['commits']\n",
    "        return [c['url'] for c in commits]\n",
    "    except:\n",
    "        if second_try == 1:\n",
    "            return original_urls\n",
    "        return getCommits(repo_info, before, head, original_urls, username, token, backup_username, backup_token, second_try = 1)"
   ]
  }
 ],
 "metadata": {
  "kernelspec": {
   "display_name": "Python 3 (ipykernel)",
   "language": "python",
   "name": "python3"
  },
  "language_info": {
   "codemirror_mode": {
    "name": "ipython",
    "version": 3
   },
   "file_extension": ".py",
   "mimetype": "text/x-python",
   "name": "python",
   "nbconvert_exporter": "python",
   "pygments_lexer": "ipython3",
   "version": "3.8.10"
  }
 },
 "nbformat": 4,
 "nbformat_minor": 5
}
