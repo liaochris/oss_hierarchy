{
 "cells": [
  {
   "cell_type": "code",
   "execution_count": null,
   "id": "128034e0-1152-44ae-b699-63e86c534a34",
   "metadata": {},
   "outputs": [],
   "source": [
    "import pandas as pd\n",
    "import glob\n",
    "from pathlib import Path"
   ]
  },
  {
   "cell_type": "code",
   "execution_count": null,
   "id": "cd54a304-8561-498a-a734-7ac700fe1952",
   "metadata": {},
   "outputs": [],
   "source": [
    "import os\n",
    "os.chdir('../../../')"
   ]
  },
  {
   "cell_type": "code",
   "execution_count": null,
   "id": "692d17d4-45f3-42d5-a267-63af1a396353",
   "metadata": {},
   "outputs": [],
   "source": [
    "indir = Path('drive/output/derived/major_contributor_prospects/intermediary_files')\n",
    "\n",
    "rolling_window_list = ['732D','1828D','367D','3654D']\n",
    "time_period_months = [6, 3, 12, 2]"
   ]
  },
  {
   "cell_type": "code",
   "execution_count": null,
   "id": "423df97c-e399-4700-ab72-5ee115ed9e08",
   "metadata": {
    "scrolled": true
   },
   "outputs": [],
   "source": [
    "for window in rolling_window_list:\n",
    "    for major_months in time_period_months:\n",
    "        relevant_files = indir.glob(f'major_contributors_major_months{major_months}_window{window}_samplefull_chunk*.parquet')\n",
    "        df_major_contributors = pd.concat([pd.read_parquet(file) for file in relevant_files])\n",
    "        df_major_contributors.to_parquet(f'major_contributors_major_months{major_months}_window{window}_samplefull.parquet')"
   ]
  }
 ],
 "metadata": {
  "kernelspec": {
   "display_name": "oss_hierarchy",
   "language": "python",
   "name": "oss_hierarchy"
  },
  "language_info": {
   "codemirror_mode": {
    "name": "ipython",
    "version": 3
   },
   "file_extension": ".py",
   "mimetype": "text/x-python",
   "name": "python",
   "nbconvert_exporter": "python",
   "pygments_lexer": "ipython3",
   "version": "3.12.7"
  }
 },
 "nbformat": 4,
 "nbformat_minor": 5
}
